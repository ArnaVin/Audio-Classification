{
 "cells": [
  {
   "cell_type": "code",
   "execution_count": null,
   "metadata": {
    "colab": {
     "base_uri": "https://localhost:8080/",
     "height": 34
    },
    "colab_type": "code",
    "executionInfo": {
     "elapsed": 14963,
     "status": "ok",
     "timestamp": 1594732914612,
     "user": {
      "displayName": "A 7",
      "photoUrl": "https://lh3.googleusercontent.com/a-/AOh14GhMdSgJmyg8RuIsibY4Zlrxq5EZI2X-ZmrOoXRBRw=s64",
      "userId": "05286122116097703237"
     },
     "user_tz": -330
    },
    "id": "7MoDXcR0lyj1",
    "outputId": "76746527-18b4-447e-fc14-4fa00e848c2e"
   },
   "outputs": [
    {
     "name": "stdout",
     "output_type": "stream",
     "text": [
      "kaggle.json\n"
     ]
    }
   ],
   "source": [
    "!pip install -q kaggle\n",
    "!mkdir -p ~/.kaggle\n",
    "!cp kaggle.json ~/.kaggle/\n",
    "!ls ~/.kaggle\n",
    "!chmod 600 /root/.kaggle/kaggle.json"
   ]
  },
  {
   "cell_type": "code",
   "execution_count": null,
   "metadata": {
    "colab": {
     "base_uri": "https://localhost:8080/",
     "height": 68
    },
    "colab_type": "code",
    "executionInfo": {
     "elapsed": 102909,
     "status": "ok",
     "timestamp": 1594733003173,
     "user": {
      "displayName": "A 7",
      "photoUrl": "https://lh3.googleusercontent.com/a-/AOh14GhMdSgJmyg8RuIsibY4Zlrxq5EZI2X-ZmrOoXRBRw=s64",
      "userId": "05286122116097703237"
     },
     "user_tz": -330
    },
    "id": "IQw-Dmeml7wj",
    "outputId": "0ecb2bea-56ec-44e9-8246-1fa49ca59188"
   },
   "outputs": [
    {
     "name": "stdout",
     "output_type": "stream",
     "text": [
      "Downloading urbansound8k.zip to /content\n",
      "100% 5.60G/5.61G [01:25<00:00, 84.0MB/s]\n",
      "100% 5.61G/5.61G [01:25<00:00, 70.2MB/s]\n"
     ]
    }
   ],
   "source": [
    "!kaggle datasets download --force -d chrisfilo/urbansound8k"
   ]
  },
  {
   "cell_type": "code",
   "execution_count": null,
   "metadata": {
    "colab": {},
    "colab_type": "code",
    "id": "xDj7GWrNl7r8"
   },
   "outputs": [],
   "source": [
    "!unzip \\*.zip  && rm *.zip"
   ]
  },
  {
   "cell_type": "code",
   "execution_count": 19,
   "metadata": {
    "colab": {
     "base_uri": "https://localhost:8080/",
     "height": 68
    },
    "colab_type": "code",
    "executionInfo": {
     "elapsed": 7991,
     "status": "ok",
     "timestamp": 1594739041489,
     "user": {
      "displayName": "A 7",
      "photoUrl": "https://lh3.googleusercontent.com/a-/AOh14GhMdSgJmyg8RuIsibY4Zlrxq5EZI2X-ZmrOoXRBRw=s64",
      "userId": "05286122116097703237"
     },
     "user_tz": -330
    },
    "id": "H4MbUVRxl7qE",
    "outputId": "f317d0a9-26f1-441a-e9b5-0c87a71bc395"
   },
   "outputs": [
    {
     "name": "stdout",
     "output_type": "stream",
     "text": [
      "Requirement already satisfied: pysoundfile in /usr/local/lib/python3.6/dist-packages (0.9.0.post1)\n",
      "Requirement already satisfied: cffi>=0.6 in /usr/local/lib/python3.6/dist-packages (from pysoundfile) (1.14.0)\n",
      "Requirement already satisfied: pycparser in /usr/local/lib/python3.6/dist-packages (from cffi>=0.6->pysoundfile) (2.20)\n"
     ]
    }
   ],
   "source": [
    "!pip install pysoundfile"
   ]
  },
  {
   "cell_type": "code",
   "execution_count": 20,
   "metadata": {
    "colab": {},
    "colab_type": "code",
    "executionInfo": {
     "elapsed": 1212,
     "status": "ok",
     "timestamp": 1594739044659,
     "user": {
      "displayName": "A 7",
      "photoUrl": "https://lh3.googleusercontent.com/a-/AOh14GhMdSgJmyg8RuIsibY4Zlrxq5EZI2X-ZmrOoXRBRw=s64",
      "userId": "05286122116097703237"
     },
     "user_tz": -330
    },
    "id": "IU0dEIgil7m0"
   },
   "outputs": [],
   "source": [
    "import numpy as np\n",
    "import pandas as pd\n",
    "import glob\n",
    "import os\n",
    "import librosa\n",
    "import soundfile as sf\n",
    "from PIL import Image\n",
    "from sklearn import preprocessing\n",
    "\n",
    "import keras\n",
    "from keras.applications.resnet50 import ResNet50\n",
    "from keras.applications import vgg16\n",
    "from keras.applications import vgg19\n",
    "from keras.applications import Xception\n",
    "from keras.models import Model\n",
    "from keras.layers import Dense\n",
    "from keras.layers import Flatten\n",
    "from keras import Sequential\n",
    "from keras.preprocessing import image\n",
    "from keras.applications.imagenet_utils import preprocess_input"
   ]
  },
  {
   "cell_type": "code",
   "execution_count": 21,
   "metadata": {
    "colab": {},
    "colab_type": "code",
    "executionInfo": {
     "elapsed": 1111,
     "status": "ok",
     "timestamp": 1594739046422,
     "user": {
      "displayName": "A 7",
      "photoUrl": "https://lh3.googleusercontent.com/a-/AOh14GhMdSgJmyg8RuIsibY4Zlrxq5EZI2X-ZmrOoXRBRw=s64",
      "userId": "05286122116097703237"
     },
     "user_tz": -330
    },
    "id": "Kb0OdA_Dl7k0"
   },
   "outputs": [],
   "source": [
    "from sklearn.externals import joblib"
   ]
  },
  {
   "cell_type": "code",
   "execution_count": 22,
   "metadata": {
    "colab": {
     "base_uri": "https://localhost:8080/",
     "height": 34
    },
    "colab_type": "code",
    "executionInfo": {
     "elapsed": 795,
     "status": "ok",
     "timestamp": 1594739047910,
     "user": {
      "displayName": "A 7",
      "photoUrl": "https://lh3.googleusercontent.com/a-/AOh14GhMdSgJmyg8RuIsibY4Zlrxq5EZI2X-ZmrOoXRBRw=s64",
      "userId": "05286122116097703237"
     },
     "user_tz": -330
    },
    "id": "i1Dm7IXpl7hK",
    "outputId": "4794a660-0d02-4992-9826-ba14ec5d5a61"
   },
   "outputs": [
    {
     "data": {
      "text/plain": [
       "(8732, 8)"
      ]
     },
     "execution_count": 22,
     "metadata": {
      "tags": []
     },
     "output_type": "execute_result"
    }
   ],
   "source": [
    "df = pd.read_csv(\"/content/UrbanSound8K.csv\")\n",
    "df.shape#, df.head()"
   ]
  },
  {
   "cell_type": "code",
   "execution_count": 23,
   "metadata": {
    "colab": {},
    "colab_type": "code",
    "executionInfo": {
     "elapsed": 780,
     "status": "ok",
     "timestamp": 1594739049143,
     "user": {
      "displayName": "A 7",
      "photoUrl": "https://lh3.googleusercontent.com/a-/AOh14GhMdSgJmyg8RuIsibY4Zlrxq5EZI2X-ZmrOoXRBRw=s64",
      "userId": "05286122116097703237"
     },
     "user_tz": -330
    },
    "id": "H4o6Jg4wl7el"
   },
   "outputs": [],
   "source": [
    "def get_sound_data(path, sr=22050):\n",
    "    data, fsr = sf.read(path)\n",
    "    data_resample = librosa.resample(data.T, fsr, sr)\n",
    "    if len(data_resample.shape) > 1:\n",
    "        data_resample = np.average(data_resample, axis=0)\n",
    "    return data_resample, sr\n",
    "\n",
    "def windows(data, window_size):\n",
    "    start = 0\n",
    "    while start < len(data):\n",
    "        yield int(start), int(start + window_size)\n",
    "        start += (window_size / 2)"
   ]
  },
  {
   "cell_type": "code",
   "execution_count": 24,
   "metadata": {
    "colab": {},
    "colab_type": "code",
    "executionInfo": {
     "elapsed": 842,
     "status": "ok",
     "timestamp": 1594739050718,
     "user": {
      "displayName": "A 7",
      "photoUrl": "https://lh3.googleusercontent.com/a-/AOh14GhMdSgJmyg8RuIsibY4Zlrxq5EZI2X-ZmrOoXRBRw=s64",
      "userId": "05286122116097703237"
     },
     "user_tz": -330
    },
    "id": "geeXkKBpw1kP"
   },
   "outputs": [],
   "source": [
    "band_s = 64\n",
    "frame_s = 64\n",
    "window_size_s = 512 * (frame_s - 1)"
   ]
  },
  {
   "cell_type": "code",
   "execution_count": 25,
   "metadata": {
    "colab": {},
    "colab_type": "code",
    "executionInfo": {
     "elapsed": 774,
     "status": "ok",
     "timestamp": 1594739052001,
     "user": {
      "displayName": "A 7",
      "photoUrl": "https://lh3.googleusercontent.com/a-/AOh14GhMdSgJmyg8RuIsibY4Zlrxq5EZI2X-ZmrOoXRBRw=s64",
      "userId": "05286122116097703237"
     },
     "user_tz": -330
    },
    "id": "DRnoUqwCl7AL"
   },
   "outputs": [],
   "source": [
    "def extract_features(df, bands=band_s, frames=frame_s, window_size=window_size_s):\n",
    "    \n",
    "    log_specgrams_full = []\n",
    "    log_specgrams_hp = []\n",
    "    class_labels = []\n",
    "\n",
    "    # for each audio sample 8732\n",
    "    for i in range(8732):\n",
    "        fn = '/content/fold' + str(df[\"fold\"][i]) + '/' + df[\"slice_file_name\"][i]\n",
    "        class_label = df[\"classID\"][i]\n",
    "        sound_data, sr = get_sound_data(fn, sr=22050)\n",
    "        \n",
    "        if (i%200)==0:\n",
    "            print(f\"This is iteration : {i} .... iterations left : {8732-i}\")\n",
    "        \n",
    "        # for each audio signal sub-sample window of data\n",
    "        for (start,end) in windows(sound_data, window_size):\n",
    "            if(len(sound_data[start:end]) == window_size):\n",
    "                signal = sound_data[start:end]\n",
    "                \n",
    "                # get the log-scaled mel-spectrogram\n",
    "                melspec_full = librosa.feature.melspectrogram(signal, n_mels = bands)\n",
    "                logspec_full = librosa.amplitude_to_db(melspec_full)\n",
    "                logspec_full = logspec_full.T.flatten()[:, np.newaxis].T\n",
    "                \n",
    "                # get the log-scaled, averaged values for the harmonic & percussive components\n",
    "                y_harmonic, y_percussive = librosa.effects.hpss(signal)\n",
    "                melspec_harmonic = librosa.feature.melspectrogram(y_harmonic, n_mels = bands)\n",
    "                melspec_percussive = librosa.feature.melspectrogram(y_percussive, n_mels = bands)\n",
    "                logspec_harmonic = librosa.amplitude_to_db(melspec_harmonic)\n",
    "                logspec_percussive = librosa.amplitude_to_db(melspec_percussive)\n",
    "                logspec_harmonic = logspec_harmonic.T.flatten()[:, np.newaxis].T\n",
    "                logspec_percussive = logspec_percussive.T.flatten()[:, np.newaxis].T\n",
    "                logspec_hp = np.average([logspec_harmonic, logspec_percussive], axis=0)\n",
    "                \n",
    "                log_specgrams_full.append(logspec_full)\n",
    "                log_specgrams_hp.append(logspec_hp)\n",
    "                class_labels.append(class_label)\n",
    "                \n",
    "    # create the first two feature maps            \n",
    "    log_specgrams_full = np.asarray(log_specgrams_full).reshape(len(log_specgrams_full), bands ,frames, 1)\n",
    "    log_specgrams_hp   = np.asarray(log_specgrams_hp).reshape(len(log_specgrams_hp), bands ,frames, 1)\n",
    "    features = np.concatenate((log_specgrams_full, \n",
    "                               log_specgrams_hp, \n",
    "                               np.zeros(np.shape(log_specgrams_full))), \n",
    "                               axis=3)\n",
    "    \n",
    "    # create the third feature map which is the delta (derivative) of the log-scaled mel-spectrogram\n",
    "    for i in range(len(features)):\n",
    "        features[i, :, :, 2] = librosa.feature.delta(features[i, :, :, 0])\n",
    "    \n",
    "    return np.array(features), np.array(class_labels, dtype = np.int)"
   ]
  },
  {
   "cell_type": "code",
   "execution_count": 26,
   "metadata": {
    "colab": {
     "base_uri": "https://localhost:8080/",
     "height": 765
    },
    "colab_type": "code",
    "executionInfo": {
     "elapsed": 5280132,
     "status": "ok",
     "timestamp": 1594744333232,
     "user": {
      "displayName": "A 7",
      "photoUrl": "https://lh3.googleusercontent.com/a-/AOh14GhMdSgJmyg8RuIsibY4Zlrxq5EZI2X-ZmrOoXRBRw=s64",
      "userId": "05286122116097703237"
     },
     "user_tz": -330
    },
    "id": "hr077sXQmXoY",
    "outputId": "68a4f586-c8b7-4bbb-f8bd-213365db591a"
   },
   "outputs": [
    {
     "name": "stdout",
     "output_type": "stream",
     "text": [
      "This is iteration : 0 .... iterations left : 8732\n",
      "This is iteration : 200 .... iterations left : 8532\n",
      "This is iteration : 400 .... iterations left : 8332\n",
      "This is iteration : 600 .... iterations left : 8132\n",
      "This is iteration : 800 .... iterations left : 7932\n",
      "This is iteration : 1000 .... iterations left : 7732\n",
      "This is iteration : 1200 .... iterations left : 7532\n",
      "This is iteration : 1400 .... iterations left : 7332\n",
      "This is iteration : 1600 .... iterations left : 7132\n",
      "This is iteration : 1800 .... iterations left : 6932\n",
      "This is iteration : 2000 .... iterations left : 6732\n",
      "This is iteration : 2200 .... iterations left : 6532\n",
      "This is iteration : 2400 .... iterations left : 6332\n",
      "This is iteration : 2600 .... iterations left : 6132\n",
      "This is iteration : 2800 .... iterations left : 5932\n",
      "This is iteration : 3000 .... iterations left : 5732\n",
      "This is iteration : 3200 .... iterations left : 5532\n",
      "This is iteration : 3400 .... iterations left : 5332\n",
      "This is iteration : 3600 .... iterations left : 5132\n",
      "This is iteration : 3800 .... iterations left : 4932\n",
      "This is iteration : 4000 .... iterations left : 4732\n",
      "This is iteration : 4200 .... iterations left : 4532\n",
      "This is iteration : 4400 .... iterations left : 4332\n",
      "This is iteration : 4600 .... iterations left : 4132\n",
      "This is iteration : 4800 .... iterations left : 3932\n",
      "This is iteration : 5000 .... iterations left : 3732\n",
      "This is iteration : 5200 .... iterations left : 3532\n",
      "This is iteration : 5400 .... iterations left : 3332\n",
      "This is iteration : 5600 .... iterations left : 3132\n",
      "This is iteration : 5800 .... iterations left : 2932\n",
      "This is iteration : 6000 .... iterations left : 2732\n",
      "This is iteration : 6200 .... iterations left : 2532\n",
      "This is iteration : 6400 .... iterations left : 2332\n",
      "This is iteration : 6600 .... iterations left : 2132\n",
      "This is iteration : 6800 .... iterations left : 1932\n",
      "This is iteration : 7000 .... iterations left : 1732\n",
      "This is iteration : 7200 .... iterations left : 1532\n",
      "This is iteration : 7400 .... iterations left : 1332\n",
      "This is iteration : 7600 .... iterations left : 1132\n",
      "This is iteration : 7800 .... iterations left : 932\n",
      "This is iteration : 8000 .... iterations left : 732\n",
      "This is iteration : 8200 .... iterations left : 532\n",
      "This is iteration : 8400 .... iterations left : 332\n",
      "This is iteration : 8600 .... iterations left : 132\n"
     ]
    }
   ],
   "source": [
    "features, labels = extract_features(df)"
   ]
  },
  {
   "cell_type": "code",
   "execution_count": 27,
   "metadata": {
    "colab": {
     "base_uri": "https://localhost:8080/",
     "height": 34
    },
    "colab_type": "code",
    "executionInfo": {
     "elapsed": 5173860,
     "status": "ok",
     "timestamp": 1594744333238,
     "user": {
      "displayName": "A 7",
      "photoUrl": "https://lh3.googleusercontent.com/a-/AOh14GhMdSgJmyg8RuIsibY4Zlrxq5EZI2X-ZmrOoXRBRw=s64",
      "userId": "05286122116097703237"
     },
     "user_tz": -330
    },
    "id": "lz9HDS1KmXlq",
    "outputId": "a1d1a3d1-d74a-45fb-97b7-a154f739ece2"
   },
   "outputs": [
    {
     "data": {
      "text/plain": [
       "((22816, 2), (22816, 75, 75, 3), (22816,))"
      ]
     },
     "execution_count": 27,
     "metadata": {
      "tags": []
     },
     "output_type": "execute_result"
    }
   ],
   "source": [
    "data = np.array(list(zip(features, labels)))\n",
    "data.shape, features.shape, labels.shape"
   ]
  },
  {
   "cell_type": "code",
   "execution_count": 28,
   "metadata": {
    "colab": {
     "base_uri": "https://localhost:8080/",
     "height": 34
    },
    "colab_type": "code",
    "executionInfo": {
     "elapsed": 5173035,
     "status": "ok",
     "timestamp": 1594744333240,
     "user": {
      "displayName": "A 7",
      "photoUrl": "https://lh3.googleusercontent.com/a-/AOh14GhMdSgJmyg8RuIsibY4Zlrxq5EZI2X-ZmrOoXRBRw=s64",
      "userId": "05286122116097703237"
     },
     "user_tz": -330
    },
    "id": "fQgeNjtBmXiG",
    "outputId": "ffb83041-8d05-4744-f530-81bcadc67e9a"
   },
   "outputs": [
    {
     "data": {
      "text/plain": [
       "((13689, 2), (4563, 2), (4564, 2))"
      ]
     },
     "execution_count": 28,
     "metadata": {
      "tags": []
     },
     "output_type": "execute_result"
    }
   ],
   "source": [
    "np.random.shuffle(data)\n",
    "train, validation, test = np.split(data, [int(.6*len(data)), int(.8*len(data))])\n",
    "train.shape, validation.shape, test.shape"
   ]
  },
  {
   "cell_type": "code",
   "execution_count": 29,
   "metadata": {
    "colab": {},
    "colab_type": "code",
    "executionInfo": {
     "elapsed": 5169475,
     "status": "ok",
     "timestamp": 1594744333241,
     "user": {
      "displayName": "A 7",
      "photoUrl": "https://lh3.googleusercontent.com/a-/AOh14GhMdSgJmyg8RuIsibY4Zlrxq5EZI2X-ZmrOoXRBRw=s64",
      "userId": "05286122116097703237"
     },
     "user_tz": -330
    },
    "id": "bmTPRG-XnxUx"
   },
   "outputs": [],
   "source": [
    "def process_sound_data(data):\n",
    "    data = np.expand_dims(data, axis=0)\n",
    "    data = preprocess_input(data)\n",
    "    return data\n",
    "\n",
    "def extract_tl_features(model, base_feature_data):\n",
    "    dataset_tl_features = []\n",
    "    for index, feature_data in enumerate(base_feature_data):\n",
    "        pr_data = process_sound_data(feature_data)\n",
    "        tl_features = model.predict(pr_data)\n",
    "        tl_features = np.reshape(tl_features, tl_features.shape[1])\n",
    "        dataset_tl_features.append(tl_features)\n",
    "    return np.array(dataset_tl_features)"
   ]
  },
  {
   "cell_type": "code",
   "execution_count": null,
   "metadata": {
    "colab": {},
    "colab_type": "code",
    "id": "w-J9Xg66mXbA"
   },
   "outputs": [],
   "source": [
    "def get_vgg16_model():\n",
    "\n",
    "  vgg = vgg16.VGG16(include_top=False, weights='imagenet', input_shape=(64, 64, 3))\n",
    "  output = vgg.layers[-1].output\n",
    "  output = keras.layers.Flatten()(output)\n",
    "  model = Model(vgg.input, output)\n",
    "  model.trainable = False\n",
    "\n",
    "  return model"
   ]
  },
  {
   "cell_type": "code",
   "execution_count": null,
   "metadata": {
    "colab": {},
    "colab_type": "code",
    "id": "BUEwOxQxmXXq"
   },
   "outputs": [],
   "source": [
    "def get_res50_model():\n",
    "\n",
    "  res = ResNet50(include_top=False, weights='imagenet', input_shape=(64, 64, 3))\n",
    "  output = res.layers[-1].output\n",
    "  output = keras.layers.Flatten()(output)\n",
    "  model = Model(res.input, output)\n",
    "  model.trainable = False\n",
    "\n",
    "  return model"
   ]
  },
  {
   "cell_type": "code",
   "execution_count": null,
   "metadata": {
    "colab": {},
    "colab_type": "code",
    "id": "kWlJYsRQMgCr"
   },
   "outputs": [],
   "source": [
    "def get_vgg19_model():\n",
    "\n",
    "  vgg = vgg19.VGG19(include_top=False, weights='imagenet', input_shape=(64, 64, 3))\n",
    "  output = vgg.layers[-1].output\n",
    "  output = keras.layers.Flatten()(output)\n",
    "  model = Model(vgg.input, output)\n",
    "  model.trainable = False\n",
    "\n",
    "  return model"
   ]
  },
  {
   "cell_type": "code",
   "execution_count": 30,
   "metadata": {
    "colab": {},
    "colab_type": "code",
    "executionInfo": {
     "elapsed": 5164896,
     "status": "ok",
     "timestamp": 1594744333242,
     "user": {
      "displayName": "A 7",
      "photoUrl": "https://lh3.googleusercontent.com/a-/AOh14GhMdSgJmyg8RuIsibY4Zlrxq5EZI2X-ZmrOoXRBRw=s64",
      "userId": "05286122116097703237"
     },
     "user_tz": -330
    },
    "id": "80yNN3tiRDjK"
   },
   "outputs": [],
   "source": [
    "def get_Xception_model():\n",
    "\n",
    "  xpn = Xception(include_top=False, weights='imagenet', input_shape=(75, 75, 3))\n",
    "  output = xpn.layers[-1].output\n",
    "  output = keras.layers.Flatten()(output)\n",
    "  model = Model(xpn.input, output)\n",
    "  model.trainable = False\n",
    "\n",
    "  return model"
   ]
  },
  {
   "cell_type": "code",
   "execution_count": 31,
   "metadata": {
    "colab": {},
    "colab_type": "code",
    "executionInfo": {
     "elapsed": 5160886,
     "status": "ok",
     "timestamp": 1594744333243,
     "user": {
      "displayName": "A 7",
      "photoUrl": "https://lh3.googleusercontent.com/a-/AOh14GhMdSgJmyg8RuIsibY4Zlrxq5EZI2X-ZmrOoXRBRw=s64",
      "userId": "05286122116097703237"
     },
     "user_tz": -330
    },
    "id": "qSGLuRyQmXUt"
   },
   "outputs": [],
   "source": [
    "train_base_features    = [item[0] for item in train]\n",
    "train_labels           = np.array([item[1] for item in train])\n",
    "validation_base_features = [item[0] for item in validation]\n",
    "validation_labels        = np.array([item[1] for item in validation])\n",
    "test_base_features     = [item[0] for item in test]\n",
    "test_labels            = np.array([item[1] for item in test])"
   ]
  },
  {
   "cell_type": "code",
   "execution_count": 32,
   "metadata": {
    "colab": {
     "base_uri": "https://localhost:8080/",
     "height": 34
    },
    "colab_type": "code",
    "executionInfo": {
     "elapsed": 5160356,
     "status": "ok",
     "timestamp": 1594744333245,
     "user": {
      "displayName": "A 7",
      "photoUrl": "https://lh3.googleusercontent.com/a-/AOh14GhMdSgJmyg8RuIsibY4Zlrxq5EZI2X-ZmrOoXRBRw=s64",
      "userId": "05286122116097703237"
     },
     "user_tz": -330
    },
    "id": "1dyu-TcyrpOt",
    "outputId": "1d443f1e-f1da-44ce-a01a-37ef4dc0acad"
   },
   "outputs": [
    {
     "data": {
      "text/plain": [
       "['test_labels.pkl']"
      ]
     },
     "execution_count": 32,
     "metadata": {
      "tags": []
     },
     "output_type": "execute_result"
    }
   ],
   "source": [
    "joblib.dump(train_labels, 'train_labels.pkl')\n",
    "joblib.dump(validation_labels, 'validation_labels.pkl')\n",
    "joblib.dump(test_labels, 'test_labels.pkl')"
   ]
  },
  {
   "cell_type": "code",
   "execution_count": 33,
   "metadata": {
    "colab": {},
    "colab_type": "code",
    "executionInfo": {
     "elapsed": 5157570,
     "status": "ok",
     "timestamp": 1594744333247,
     "user": {
      "displayName": "A 7",
      "photoUrl": "https://lh3.googleusercontent.com/a-/AOh14GhMdSgJmyg8RuIsibY4Zlrxq5EZI2X-ZmrOoXRBRw=s64",
      "userId": "05286122116097703237"
     },
     "user_tz": -330
    },
    "id": "kDoRFiuYolt5"
   },
   "outputs": [],
   "source": [
    "def get_tl_features(model, train_features, validate_features, test_features):\n",
    "\n",
    "  print(\"Features extraction started............\")\n",
    "  train_tl_features    = extract_tl_features(model=model, base_feature_data=train_features)\n",
    "  print(\"Training-features.......extracted (1/3)\")\n",
    "  validate_tl_features = extract_tl_features(model=model, base_feature_data=validate_features)\n",
    "  print(\"Validation-features.....extracted (2/3)\")\n",
    "  test_tl_features     = extract_tl_features(model=model, base_feature_data=test_features)\n",
    "  print(\"Testing-features........extracted (3/3)\")\n",
    "\n",
    "  return train_tl_features, validate_tl_features, test_tl_features"
   ]
  },
  {
   "cell_type": "code",
   "execution_count": null,
   "metadata": {
    "colab": {},
    "colab_type": "code",
    "id": "xxsF6bDKolkR"
   },
   "outputs": [],
   "source": [
    "model1 = get_vgg16_model()\n",
    "vgg16_train_features, vgg16_validation_features, vgg16_test_features = get_tl_features(model1, train_base_features, validation_base_features, test_base_features)"
   ]
  },
  {
   "cell_type": "code",
   "execution_count": null,
   "metadata": {
    "colab": {},
    "colab_type": "code",
    "id": "IRfqavpDrhDN"
   },
   "outputs": [],
   "source": [
    "joblib.dump(vgg16_train_features, 'vgg16_train_features.pkl')\n",
    "joblib.dump(vgg16_validation_features, 'vgg16_validation_features.pkl')\n",
    "joblib.dump(vgg16_test_features, 'vgg16_test_features.pkl')"
   ]
  },
  {
   "cell_type": "code",
   "execution_count": null,
   "metadata": {
    "colab": {},
    "colab_type": "code",
    "id": "JElhuyx8olaq"
   },
   "outputs": [],
   "source": [
    "model2 = get_res50_model()\n",
    "res50_train_features, res50_validation_features, res50_test_features = get_tl_features(model2, train_base_features, validation_base_features, test_base_features)"
   ]
  },
  {
   "cell_type": "code",
   "execution_count": null,
   "metadata": {
    "colab": {},
    "colab_type": "code",
    "id": "kSv_HIJusSAw"
   },
   "outputs": [],
   "source": [
    "joblib.dump(res50_train_features, 'res50_train_features.pkl')\n",
    "joblib.dump(res50_validation_features, 'res50_validation_features.pkl')\n",
    "joblib.dump(res50_test_features, 'res50_test_features.pkl')"
   ]
  },
  {
   "cell_type": "code",
   "execution_count": null,
   "metadata": {
    "colab": {},
    "colab_type": "code",
    "id": "_8Pc3AiWMc1h"
   },
   "outputs": [],
   "source": [
    "model3 = get_vgg19_model()\n",
    "vgg19_train_features, vgg19_validation_features, vgg19_test_features = get_tl_features(model3, train_base_features, validation_base_features, test_base_features)"
   ]
  },
  {
   "cell_type": "code",
   "execution_count": null,
   "metadata": {
    "colab": {},
    "colab_type": "code",
    "id": "OMVXkN9LNY5A"
   },
   "outputs": [],
   "source": [
    "joblib.dump(vgg19_train_features, 'vgg19_train_features.pkl')\n",
    "joblib.dump(vgg19_validation_features, 'vgg19_validation_features.pkl')\n",
    "joblib.dump(vgg19_test_features, 'vgg19_test_features.pkl')"
   ]
  },
  {
   "cell_type": "code",
   "execution_count": 34,
   "metadata": {
    "colab": {
     "base_uri": "https://localhost:8080/",
     "height": 119
    },
    "colab_type": "code",
    "executionInfo": {
     "elapsed": 1237483,
     "status": "ok",
     "timestamp": 1594745605468,
     "user": {
      "displayName": "A 7",
      "photoUrl": "https://lh3.googleusercontent.com/a-/AOh14GhMdSgJmyg8RuIsibY4Zlrxq5EZI2X-ZmrOoXRBRw=s64",
      "userId": "05286122116097703237"
     },
     "user_tz": -330
    },
    "id": "pUw8i1Yhu2aw",
    "outputId": "548daf23-78ce-43fa-f6f1-66cc29b4fdfc"
   },
   "outputs": [
    {
     "name": "stdout",
     "output_type": "stream",
     "text": [
      "Downloading data from https://github.com/fchollet/deep-learning-models/releases/download/v0.4/xception_weights_tf_dim_ordering_tf_kernels_notop.h5\n",
      "83689472/83683744 [==============================] - 1s 0us/step\n",
      "Features extraction started............\n",
      "Training-features.......extracted (1/3)\n",
      "Validation-features.....extracted (2/3)\n",
      "Testing-features........extracted (3/3)\n"
     ]
    }
   ],
   "source": [
    "model4 = get_Xception_model()\n",
    "Xception_train_features, Xception_validation_features, Xception_test_features = get_tl_features(model4, train_base_features, validation_base_features, test_base_features)"
   ]
  },
  {
   "cell_type": "code",
   "execution_count": 36,
   "metadata": {
    "colab": {
     "base_uri": "https://localhost:8080/",
     "height": 34
    },
    "colab_type": "code",
    "executionInfo": {
     "elapsed": 7961,
     "status": "ok",
     "timestamp": 1594745678884,
     "user": {
      "displayName": "A 7",
      "photoUrl": "https://lh3.googleusercontent.com/a-/AOh14GhMdSgJmyg8RuIsibY4Zlrxq5EZI2X-ZmrOoXRBRw=s64",
      "userId": "05286122116097703237"
     },
     "user_tz": -330
    },
    "id": "yf8-VGadRiDU",
    "outputId": "4b6a6302-f569-4807-e86d-21c4aee6ae7f"
   },
   "outputs": [
    {
     "data": {
      "text/plain": [
       "['Xception_test_features.pkl']"
      ]
     },
     "execution_count": 36,
     "metadata": {
      "tags": []
     },
     "output_type": "execute_result"
    }
   ],
   "source": [
    "joblib.dump(Xception_train_features, 'Xception_train_features.pkl')\n",
    "joblib.dump(Xception_validation_features, 'Xception_validation_features.pkl')\n",
    "joblib.dump(Xception_test_features, 'Xception_test_features.pkl')"
   ]
  },
  {
   "cell_type": "code",
   "execution_count": 66,
   "metadata": {
    "colab": {
     "base_uri": "https://localhost:8080/",
     "height": 34
    },
    "colab_type": "code",
    "executionInfo": {
     "elapsed": 1210,
     "status": "ok",
     "timestamp": 1594754981340,
     "user": {
      "displayName": "A 7",
      "photoUrl": "https://lh3.googleusercontent.com/a-/AOh14GhMdSgJmyg8RuIsibY4Zlrxq5EZI2X-ZmrOoXRBRw=s64",
      "userId": "05286122116097703237"
     },
     "user_tz": -330
    },
    "id": "OhruXLIVLH5n",
    "outputId": "6fd93224-3865-4701-deac-c5f8aff2fe83"
   },
   "outputs": [
    {
     "data": {
      "text/plain": [
       "((13689, 18432), (4563, 18432), (4564, 18432))"
      ]
     },
     "execution_count": 66,
     "metadata": {
      "tags": []
     },
     "output_type": "execute_result"
    }
   ],
   "source": [
    "Xception_train_features.shape, Xception_validation_features.shape, Xception_test_features.shape"
   ]
  },
  {
   "cell_type": "code",
   "execution_count": null,
   "metadata": {
    "colab": {},
    "colab_type": "code",
    "id": "PCNnpJmsSsnJ"
   },
   "outputs": [],
   "source": []
  }
 ],
 "metadata": {
  "colab": {
   "authorship_tag": "ABX9TyMNsO+mzaFr/N7U/nBiPNne",
   "collapsed_sections": [],
   "name": "Feature_extraction.ipynb",
   "provenance": []
  },
  "kernelspec": {
   "display_name": "Python 3",
   "language": "python",
   "name": "python3"
  },
  "language_info": {
   "codemirror_mode": {
    "name": "ipython",
    "version": 3
   },
   "file_extension": ".py",
   "mimetype": "text/x-python",
   "name": "python",
   "nbconvert_exporter": "python",
   "pygments_lexer": "ipython3",
   "version": "3.7.7"
  }
 },
 "nbformat": 4,
 "nbformat_minor": 1
}
