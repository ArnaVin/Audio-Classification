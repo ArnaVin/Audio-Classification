{
 "cells": [
  {
   "cell_type": "code",
   "execution_count": 1,
   "metadata": {},
   "outputs": [],
   "source": [
    "import numpy as np\n",
    "import pandas as pd\n",
    "import joblib\n",
    "from tensorflow import keras\n",
    "from tensorflow.keras import models\n",
    "from tensorflow.keras import layers\n",
    "from tensorflow.keras.utils import to_categorical\n",
    "import matplotlib.pyplot as plt\n",
    "from sklearn import metrics\n",
    "\n",
    "%matplotlib inline"
   ]
  },
  {
   "cell_type": "code",
   "execution_count": 2,
   "metadata": {},
   "outputs": [],
   "source": [
    "def tl_features(tl):\n",
    "    \n",
    "    trainf_path      = tl + '/' + tl + '_train_features.pkl'\n",
    "    validationf_path = tl + '/' + tl + '_validation_features.pkl'\n",
    "    testf_path       = tl + '/' + tl + '_test_features.pkl'\n",
    "    trainl_path      = tl + '/' + tl + '_train_labels.pkl'\n",
    "    validationl_path = tl + '/' + tl + '_validation_labels.pkl'\n",
    "    testl_path       = tl + '/' + tl + '_test_labels.pkl'\n",
    "    \n",
    "    train_features      = joblib.load(trainf_path)\n",
    "    validation_features = joblib.load(validationf_path)\n",
    "    test_features       = joblib.load(testf_path)\n",
    "    train_labels        = to_categorical(joblib.load(trainl_path))\n",
    "    validation_labels   = to_categorical(joblib.load(validationl_path))\n",
    "    test_labels         = to_categorical(joblib.load(testl_path))\n",
    "    \n",
    "    return train_features, validation_features, test_features, train_labels, validation_labels, test_labels"
   ]
  },
  {
   "cell_type": "code",
   "execution_count": 3,
   "metadata": {},
   "outputs": [],
   "source": [
    "def get_metrics(model, test_features, test_labels):\n",
    "    \n",
    "    predictions = model.predict_classes(test_features)\n",
    "    class_map = {'0' : 'air_conditioner', '1' : 'car_horn', '2' : 'children_playing', '3' : 'dog_bark', '4' : 'drilling', \n",
    "                 '5' : 'engine_idling', '6' : 'gun_shot', '7' : 'jackhammer', '8' : 'siren', '9' : 'street_music'}\n",
    "    \n",
    "    true_labels      = [class_map[str(np.argmax(label))] for label in test_labels]\n",
    "    predicted_labels = [class_map[str(label)] for label in predictions]\n",
    "    \n",
    "    Accuracy  = np.round(metrics.accuracy_score(true_labels, predicted_labels), 4)\n",
    "    Precision = np.round(metrics.precision_score(true_labels, predicted_labels, average='weighted'), 4)\n",
    "    Recall    = np.round(metrics.recall_score(true_labels, predicted_labels, average='weighted'), 4)\n",
    "    F1_Score  = np.round(metrics.f1_score(true_labels, predicted_labels, average='weighted'), 4)\n",
    "    \n",
    "    return [Accuracy, Precision, Recall, F1_Score]"
   ]
  },
  {
   "cell_type": "code",
   "execution_count": 4,
   "metadata": {},
   "outputs": [],
   "source": [
    "def get_model(train_features):\n",
    "   \n",
    "    model = models.Sequential()\n",
    "    model.add(layers.Dense(1024, activation='relu', input_shape=(train_features.shape[1],)))\n",
    "    model.add(layers.Dropout(0.4))\n",
    "    model.add(layers.Dense(1024, activation='relu'))\n",
    "    model.add(layers.Dropout(0.4))\n",
    "    model.add(layers.Dense(512, activation='relu'))\n",
    "    model.add(layers.Dropout(0.5))\n",
    "    model.add(layers.Dense(512, activation='relu'))\n",
    "    model.add(layers.Dropout(0.5))\n",
    "    model.add(layers.Dense(10, activation='softmax'))\n",
    "    model.compile(loss='categorical_crossentropy', optimizer='adam',  metrics=['accuracy'])\n",
    "    return model"
   ]
  },
  {
   "cell_type": "code",
   "execution_count": 5,
   "metadata": {},
   "outputs": [],
   "source": [
    "def train_model(model, train_features, train_labels, validation_features, validation_labels):\n",
    "    \n",
    "    model.fit(train_features, train_labels, epochs=50, batch_size=128,\n",
    "              validation_data=(validation_features, validation_labels), \n",
    "              shuffle=True, verbose=1)"
   ]
  },
  {
   "cell_type": "code",
   "execution_count": 4,
   "metadata": {},
   "outputs": [],
   "source": [
    "#results = pd.DataFrame()\n",
    "#results['metrics'] = ['Accuracy', 'Precision', 'Recall', 'F1_Score']\n",
    "\n",
    "results = pd.read_csv('results.csv')"
   ]
  },
  {
   "cell_type": "code",
   "execution_count": 8,
   "metadata": {},
   "outputs": [
    {
     "data": {
      "text/plain": [
       "((18300, 2048),\n",
       " (6100, 2048),\n",
       " (6100, 2048),\n",
       " (18300, 10),\n",
       " (6100, 10),\n",
       " (6100, 10))"
      ]
     },
     "execution_count": 8,
     "metadata": {},
     "output_type": "execute_result"
    }
   ],
   "source": [
    "tl_name_1 = 'Vgg16'\n",
    "Vgg16_train_features, Vgg16_validation_features, Vgg16_test_features, Vgg16_train_labels, Vgg16_validation_labels, Vgg16_test_labels = tl_features(tl_name_1)\n",
    "Vgg16_train_features.shape, Vgg16_validation_features.shape, Vgg16_test_features.shape, Vgg16_train_labels.shape, Vgg16_validation_labels.shape, Vgg16_test_labels.shape"
   ]
  },
  {
   "cell_type": "code",
   "execution_count": 13,
   "metadata": {},
   "outputs": [
    {
     "name": "stdout",
     "output_type": "stream",
     "text": [
      "Model: \"sequential_3\"\n",
      "_________________________________________________________________\n",
      "Layer (type)                 Output Shape              Param #   \n",
      "=================================================================\n",
      "dense_14 (Dense)             (None, 1024)              2098176   \n",
      "_________________________________________________________________\n",
      "dropout_12 (Dropout)         (None, 1024)              0         \n",
      "_________________________________________________________________\n",
      "dense_15 (Dense)             (None, 1024)              1049600   \n",
      "_________________________________________________________________\n",
      "dropout_13 (Dropout)         (None, 1024)              0         \n",
      "_________________________________________________________________\n",
      "dense_16 (Dense)             (None, 512)               524800    \n",
      "_________________________________________________________________\n",
      "dropout_14 (Dropout)         (None, 512)               0         \n",
      "_________________________________________________________________\n",
      "dense_17 (Dense)             (None, 512)               262656    \n",
      "_________________________________________________________________\n",
      "dropout_15 (Dropout)         (None, 512)               0         \n",
      "_________________________________________________________________\n",
      "dense_18 (Dense)             (None, 10)                5130      \n",
      "=================================================================\n",
      "Total params: 3,940,362\n",
      "Trainable params: 3,940,362\n",
      "Non-trainable params: 0\n",
      "_________________________________________________________________\n"
     ]
    }
   ],
   "source": [
    "tl_model_1 = get_model(Vgg16_train_features)\n",
    "tl_model_1.summary()"
   ]
  },
  {
   "cell_type": "code",
   "execution_count": 20,
   "metadata": {},
   "outputs": [
    {
     "name": "stdout",
     "output_type": "stream",
     "text": [
      "Train on 18300 samples, validate on 6100 samples\n",
      "Epoch 1/50\n",
      "18300/18300 [==============================] - 17s 907us/sample - loss: 2.4356 - accuracy: 0.3866 - val_loss: 1.0687 - val_accuracy: 0.6634\n",
      "Epoch 2/50\n",
      "18300/18300 [==============================] - 14s 783us/sample - loss: 1.1859 - accuracy: 0.6001 - val_loss: 0.8759 - val_accuracy: 0.7279\n",
      "Epoch 3/50\n",
      "18300/18300 [==============================] - 14s 790us/sample - loss: 0.9895 - accuracy: 0.6774 - val_loss: 0.7660 - val_accuracy: 0.7670\n",
      "Epoch 4/50\n",
      "18300/18300 [==============================] - 13s 731us/sample - loss: 0.8607 - accuracy: 0.7226 - val_loss: 0.6817 - val_accuracy: 0.7984\n",
      "Epoch 5/50\n",
      "18300/18300 [==============================] - 13s 717us/sample - loss: 0.7716 - accuracy: 0.7507 - val_loss: 0.6681 - val_accuracy: 0.8002\n",
      "Epoch 6/50\n",
      "18300/18300 [==============================] - 13s 729us/sample - loss: 0.6979 - accuracy: 0.7773 - val_loss: 0.6193 - val_accuracy: 0.8064\n",
      "Epoch 7/50\n",
      "18300/18300 [==============================] - 14s 757us/sample - loss: 0.6580 - accuracy: 0.7923 - val_loss: 0.5755 - val_accuracy: 0.8218\n",
      "Epoch 8/50\n",
      "18300/18300 [==============================] - 14s 749us/sample - loss: 0.6092 - accuracy: 0.8066 - val_loss: 0.5841 - val_accuracy: 0.8126\n",
      "Epoch 9/50\n",
      "18300/18300 [==============================] - 14s 753us/sample - loss: 0.5683 - accuracy: 0.8181 - val_loss: 0.5737 - val_accuracy: 0.8189\n",
      "Epoch 10/50\n",
      "18300/18300 [==============================] - 14s 763us/sample - loss: 0.5299 - accuracy: 0.8276 - val_loss: 0.5391 - val_accuracy: 0.8334\n",
      "Epoch 11/50\n",
      "18300/18300 [==============================] - 15s 806us/sample - loss: 0.5133 - accuracy: 0.8364 - val_loss: 0.5201 - val_accuracy: 0.8415\n",
      "Epoch 12/50\n",
      "18300/18300 [==============================] - 15s 822us/sample - loss: 0.5072 - accuracy: 0.8407 - val_loss: 0.5382 - val_accuracy: 0.8285\n",
      "Epoch 13/50\n",
      "18300/18300 [==============================] - 14s 768us/sample - loss: 0.4698 - accuracy: 0.8521 - val_loss: 0.5035 - val_accuracy: 0.8444\n",
      "Epoch 14/50\n",
      "18300/18300 [==============================] - 14s 772us/sample - loss: 0.4512 - accuracy: 0.8564 - val_loss: 0.4651 - val_accuracy: 0.8526\n",
      "Epoch 15/50\n",
      "18300/18300 [==============================] - 13s 726us/sample - loss: 0.4229 - accuracy: 0.8630 - val_loss: 0.4601 - val_accuracy: 0.8595\n",
      "Epoch 16/50\n",
      "18300/18300 [==============================] - 14s 762us/sample - loss: 0.4262 - accuracy: 0.8650 - val_loss: 0.4564 - val_accuracy: 0.8561\n",
      "Epoch 17/50\n",
      "18300/18300 [==============================] - 14s 756us/sample - loss: 0.4103 - accuracy: 0.8737 - val_loss: 0.4650 - val_accuracy: 0.8585\n",
      "Epoch 18/50\n",
      "18300/18300 [==============================] - 14s 753us/sample - loss: 0.3975 - accuracy: 0.8754 - val_loss: 0.4514 - val_accuracy: 0.8656\n",
      "Epoch 19/50\n",
      "18300/18300 [==============================] - 14s 756us/sample - loss: 0.3816 - accuracy: 0.8792 - val_loss: 0.4667 - val_accuracy: 0.8567\n",
      "Epoch 20/50\n",
      "18300/18300 [==============================] - 13s 735us/sample - loss: 0.3833 - accuracy: 0.8820 - val_loss: 0.4438 - val_accuracy: 0.8630\n",
      "Epoch 21/50\n",
      "18300/18300 [==============================] - 14s 754us/sample - loss: 0.3593 - accuracy: 0.8864 - val_loss: 0.4525 - val_accuracy: 0.8682\n",
      "Epoch 22/50\n",
      "18300/18300 [==============================] - 14s 763us/sample - loss: 0.3592 - accuracy: 0.8877 - val_loss: 0.4602 - val_accuracy: 0.8574\n",
      "Epoch 23/50\n",
      "18300/18300 [==============================] - 14s 785us/sample - loss: 0.3611 - accuracy: 0.8893 - val_loss: 0.4414 - val_accuracy: 0.8659\n",
      "Epoch 24/50\n",
      "18300/18300 [==============================] - 14s 758us/sample - loss: 0.3488 - accuracy: 0.8919 - val_loss: 0.4249 - val_accuracy: 0.8797\n",
      "Epoch 25/50\n",
      "18300/18300 [==============================] - 14s 757us/sample - loss: 0.3251 - accuracy: 0.8987 - val_loss: 0.4429 - val_accuracy: 0.8723\n",
      "Epoch 26/50\n",
      "18300/18300 [==============================] - 14s 757us/sample - loss: 0.3420 - accuracy: 0.8961 - val_loss: 0.4595 - val_accuracy: 0.8661\n",
      "Epoch 27/50\n",
      "18300/18300 [==============================] - 14s 772us/sample - loss: 0.3314 - accuracy: 0.8995 - val_loss: 0.4490 - val_accuracy: 0.8689\n",
      "Epoch 28/50\n",
      "18300/18300 [==============================] - 14s 760us/sample - loss: 0.3219 - accuracy: 0.9004 - val_loss: 0.4294 - val_accuracy: 0.8749\n",
      "Epoch 29/50\n",
      "18300/18300 [==============================] - 15s 835us/sample - loss: 0.3143 - accuracy: 0.9017 - val_loss: 0.4284 - val_accuracy: 0.8775\n",
      "Epoch 30/50\n",
      "18300/18300 [==============================] - 15s 847us/sample - loss: 0.2870 - accuracy: 0.9119 - val_loss: 0.4416 - val_accuracy: 0.8718\n",
      "Epoch 31/50\n",
      "18300/18300 [==============================] - 14s 738us/sample - loss: 0.2982 - accuracy: 0.9077 - val_loss: 0.4409 - val_accuracy: 0.8780\n",
      "Epoch 32/50\n",
      "18300/18300 [==============================] - 13s 734us/sample - loss: 0.2946 - accuracy: 0.9112 - val_loss: 0.4438 - val_accuracy: 0.8736\n",
      "Epoch 33/50\n",
      "18300/18300 [==============================] - 14s 760us/sample - loss: 0.2807 - accuracy: 0.9121 - val_loss: 0.4448 - val_accuracy: 0.8757\n",
      "Epoch 34/50\n",
      "18300/18300 [==============================] - 14s 758us/sample - loss: 0.2875 - accuracy: 0.9150 - val_loss: 0.4379 - val_accuracy: 0.8766\n",
      "Epoch 35/50\n",
      "18300/18300 [==============================] - 14s 770us/sample - loss: 0.2857 - accuracy: 0.9164 - val_loss: 0.4586 - val_accuracy: 0.8716\n",
      "Epoch 36/50\n",
      "18300/18300 [==============================] - 14s 780us/sample - loss: 0.2855 - accuracy: 0.9133 - val_loss: 0.4656 - val_accuracy: 0.8734\n",
      "Epoch 37/50\n",
      "18300/18300 [==============================] - 13s 735us/sample - loss: 0.2853 - accuracy: 0.9144 - val_loss: 0.4349 - val_accuracy: 0.8738\n",
      "Epoch 38/50\n",
      "18300/18300 [==============================] - 14s 778us/sample - loss: 0.3049 - accuracy: 0.9126 - val_loss: 0.4649 - val_accuracy: 0.8718\n",
      "Epoch 39/50\n",
      "18300/18300 [==============================] - 14s 755us/sample - loss: 0.2731 - accuracy: 0.9203 - val_loss: 0.4555 - val_accuracy: 0.8720\n",
      "Epoch 40/50\n",
      "18300/18300 [==============================] - 14s 740us/sample - loss: 0.2778 - accuracy: 0.9192 - val_loss: 0.4659 - val_accuracy: 0.8733\n",
      "Epoch 41/50\n",
      "18300/18300 [==============================] - 13s 737us/sample - loss: 0.2692 - accuracy: 0.9220 - val_loss: 0.4315 - val_accuracy: 0.8805\n",
      "Epoch 42/50\n",
      "18300/18300 [==============================] - 14s 760us/sample - loss: 0.2784 - accuracy: 0.9176 - val_loss: 0.4414 - val_accuracy: 0.8802\n",
      "Epoch 43/50\n",
      "18300/18300 [==============================] - 14s 770us/sample - loss: 0.2569 - accuracy: 0.9259 - val_loss: 0.4633 - val_accuracy: 0.8789\n",
      "Epoch 44/50\n",
      "18300/18300 [==============================] - 14s 778us/sample - loss: 0.2615 - accuracy: 0.9246 - val_loss: 0.4509 - val_accuracy: 0.8838\n",
      "Epoch 45/50\n",
      "18300/18300 [==============================] - 15s 838us/sample - loss: 0.2616 - accuracy: 0.9221 - val_loss: 0.4451 - val_accuracy: 0.8802\n",
      "Epoch 46/50\n",
      "18300/18300 [==============================] - 15s 826us/sample - loss: 0.2379 - accuracy: 0.9297 - val_loss: 0.4603 - val_accuracy: 0.8811\n",
      "Epoch 47/50\n",
      "18300/18300 [==============================] - 14s 792us/sample - loss: 0.2713 - accuracy: 0.9238 - val_loss: 0.4057 - val_accuracy: 0.8841\n",
      "Epoch 48/50\n",
      "18300/18300 [==============================] - 14s 771us/sample - loss: 0.2375 - accuracy: 0.9292 - val_loss: 0.4771 - val_accuracy: 0.8811\n",
      "Epoch 49/50\n",
      "18300/18300 [==============================] - 15s 793us/sample - loss: 0.2411 - accuracy: 0.9305 - val_loss: 0.4649 - val_accuracy: 0.8807\n",
      "Epoch 50/50\n",
      "18300/18300 [==============================] - 14s 779us/sample - loss: 0.2263 - accuracy: 0.9319 - val_loss: 0.4843 - val_accuracy: 0.8831\n"
     ]
    }
   ],
   "source": [
    "train_model(tl_model_1, Vgg16_train_features, Vgg16_train_labels, Vgg16_validation_features, Vgg16_validation_labels)"
   ]
  },
  {
   "cell_type": "code",
   "execution_count": 23,
   "metadata": {},
   "outputs": [],
   "source": [
    "results['Vgg16'] = get_metrics(tl_model_1, Vgg16_test_features, Vgg16_test_labels)"
   ]
  },
  {
   "cell_type": "code",
   "execution_count": 24,
   "metadata": {},
   "outputs": [
    {
     "data": {
      "text/html": [
       "<div>\n",
       "<style scoped>\n",
       "    .dataframe tbody tr th:only-of-type {\n",
       "        vertical-align: middle;\n",
       "    }\n",
       "\n",
       "    .dataframe tbody tr th {\n",
       "        vertical-align: top;\n",
       "    }\n",
       "\n",
       "    .dataframe thead th {\n",
       "        text-align: right;\n",
       "    }\n",
       "</style>\n",
       "<table border=\"1\" class=\"dataframe\">\n",
       "  <thead>\n",
       "    <tr style=\"text-align: right;\">\n",
       "      <th></th>\n",
       "      <th>metrics</th>\n",
       "      <th>Vgg16</th>\n",
       "    </tr>\n",
       "  </thead>\n",
       "  <tbody>\n",
       "    <tr>\n",
       "      <th>0</th>\n",
       "      <td>Accuracy</td>\n",
       "      <td>0.8830</td>\n",
       "    </tr>\n",
       "    <tr>\n",
       "      <th>1</th>\n",
       "      <td>Precision</td>\n",
       "      <td>0.8871</td>\n",
       "    </tr>\n",
       "    <tr>\n",
       "      <th>2</th>\n",
       "      <td>Recall</td>\n",
       "      <td>0.8830</td>\n",
       "    </tr>\n",
       "    <tr>\n",
       "      <th>3</th>\n",
       "      <td>F1_Score</td>\n",
       "      <td>0.8834</td>\n",
       "    </tr>\n",
       "  </tbody>\n",
       "</table>\n",
       "</div>"
      ],
      "text/plain": [
       "     metrics   Vgg16\n",
       "0   Accuracy  0.8830\n",
       "1  Precision  0.8871\n",
       "2     Recall  0.8830\n",
       "3   F1_Score  0.8834"
      ]
     },
     "execution_count": 24,
     "metadata": {},
     "output_type": "execute_result"
    }
   ],
   "source": [
    "results"
   ]
  },
  {
   "cell_type": "code",
   "execution_count": 28,
   "metadata": {},
   "outputs": [
    {
     "data": {
      "text/plain": [
       "((18300, 8192),\n",
       " (6100, 8192),\n",
       " (6100, 8192),\n",
       " (18300, 10),\n",
       " (6100, 10),\n",
       " (6100, 10))"
      ]
     },
     "execution_count": 28,
     "metadata": {},
     "output_type": "execute_result"
    }
   ],
   "source": [
    "tl_name_2 = 'ResNet50'\n",
    "ResNet50_train_features, ResNet50_validation_features, ResNet50_test_features, ResNet50_train_labels, ResNet50_validation_labels, ResNet50_test_labels = tl_features(tl_name_2)\n",
    "ResNet50_train_features.shape, ResNet50_validation_features.shape, ResNet50_test_features.shape, ResNet50_train_labels.shape, ResNet50_validation_labels.shape, ResNet50_test_labels.shape"
   ]
  },
  {
   "cell_type": "code",
   "execution_count": 29,
   "metadata": {},
   "outputs": [
    {
     "name": "stdout",
     "output_type": "stream",
     "text": [
      "Model: \"sequential_5\"\n",
      "_________________________________________________________________\n",
      "Layer (type)                 Output Shape              Param #   \n",
      "=================================================================\n",
      "dense_24 (Dense)             (None, 1024)              8389632   \n",
      "_________________________________________________________________\n",
      "dropout_20 (Dropout)         (None, 1024)              0         \n",
      "_________________________________________________________________\n",
      "dense_25 (Dense)             (None, 1024)              1049600   \n",
      "_________________________________________________________________\n",
      "dropout_21 (Dropout)         (None, 1024)              0         \n",
      "_________________________________________________________________\n",
      "dense_26 (Dense)             (None, 512)               524800    \n",
      "_________________________________________________________________\n",
      "dropout_22 (Dropout)         (None, 512)               0         \n",
      "_________________________________________________________________\n",
      "dense_27 (Dense)             (None, 512)               262656    \n",
      "_________________________________________________________________\n",
      "dropout_23 (Dropout)         (None, 512)               0         \n",
      "_________________________________________________________________\n",
      "dense_28 (Dense)             (None, 10)                5130      \n",
      "=================================================================\n",
      "Total params: 10,231,818\n",
      "Trainable params: 10,231,818\n",
      "Non-trainable params: 0\n",
      "_________________________________________________________________\n"
     ]
    }
   ],
   "source": [
    "tl_model_2 = get_model(ResNet50_train_features)\n",
    "tl_model_2.summary()"
   ]
  },
  {
   "cell_type": "code",
   "execution_count": 30,
   "metadata": {},
   "outputs": [
    {
     "name": "stdout",
     "output_type": "stream",
     "text": [
      "Train on 18300 samples, validate on 6100 samples\n",
      "Epoch 1/50\n",
      "18300/18300 [==============================] - 31s 2ms/sample - loss: 1.4973 - accuracy: 0.4901 - val_loss: 0.8591 - val_accuracy: 0.7097\n",
      "Epoch 2/50\n",
      "18300/18300 [==============================] - 27s 1ms/sample - loss: 0.8988 - accuracy: 0.7083 - val_loss: 0.6347 - val_accuracy: 0.7905\n",
      "Epoch 3/50\n",
      "18300/18300 [==============================] - 28s 2ms/sample - loss: 0.7160 - accuracy: 0.7748 - val_loss: 0.5491 - val_accuracy: 0.8233\n",
      "Epoch 4/50\n",
      "18300/18300 [==============================] - 27s 1ms/sample - loss: 0.6172 - accuracy: 0.8073 - val_loss: 0.4908 - val_accuracy: 0.8434\n",
      "Epoch 5/50\n",
      "18300/18300 [==============================] - 27s 1ms/sample - loss: 0.5104 - accuracy: 0.8406 - val_loss: 0.4627 - val_accuracy: 0.8497\n",
      "Epoch 6/50\n",
      "18300/18300 [==============================] - 28s 2ms/sample - loss: 0.4849 - accuracy: 0.8486 - val_loss: 0.4433 - val_accuracy: 0.8575\n",
      "Epoch 7/50\n",
      "18300/18300 [==============================] - 28s 2ms/sample - loss: 0.4186 - accuracy: 0.8674 - val_loss: 0.4199 - val_accuracy: 0.8667\n",
      "Epoch 8/50\n",
      "18300/18300 [==============================] - 27s 1ms/sample - loss: 0.4031 - accuracy: 0.8756 - val_loss: 0.4431 - val_accuracy: 0.8613\n",
      "Epoch 9/50\n",
      "18300/18300 [==============================] - 27s 1ms/sample - loss: 0.3819 - accuracy: 0.8800 - val_loss: 0.4017 - val_accuracy: 0.8730\n",
      "Epoch 10/50\n",
      "18300/18300 [==============================] - 28s 2ms/sample - loss: 0.3473 - accuracy: 0.8913 - val_loss: 0.4071 - val_accuracy: 0.8761\n",
      "Epoch 11/50\n",
      "18300/18300 [==============================] - 27s 1ms/sample - loss: 0.3442 - accuracy: 0.8946 - val_loss: 0.4147 - val_accuracy: 0.8723\n",
      "Epoch 12/50\n",
      "18300/18300 [==============================] - 27s 1ms/sample - loss: 0.3056 - accuracy: 0.9048 - val_loss: 0.3942 - val_accuracy: 0.8830\n",
      "Epoch 13/50\n",
      "18300/18300 [==============================] - 27s 1ms/sample - loss: 0.2793 - accuracy: 0.9110 - val_loss: 0.3970 - val_accuracy: 0.8767\n",
      "Epoch 14/50\n",
      "18300/18300 [==============================] - 28s 2ms/sample - loss: 0.2644 - accuracy: 0.9175 - val_loss: 0.3938 - val_accuracy: 0.8813\n",
      "Epoch 15/50\n",
      "18300/18300 [==============================] - 28s 2ms/sample - loss: 0.2584 - accuracy: 0.9201 - val_loss: 0.3859 - val_accuracy: 0.8841\n",
      "Epoch 16/50\n",
      "18300/18300 [==============================] - 29s 2ms/sample - loss: 0.2515 - accuracy: 0.9227 - val_loss: 0.4195 - val_accuracy: 0.8877\n",
      "Epoch 17/50\n",
      "18300/18300 [==============================] - 29s 2ms/sample - loss: 0.2431 - accuracy: 0.9250 - val_loss: 0.3861 - val_accuracy: 0.8902\n",
      "Epoch 18/50\n",
      "18300/18300 [==============================] - 29s 2ms/sample - loss: 0.2393 - accuracy: 0.9276 - val_loss: 0.3879 - val_accuracy: 0.8910\n",
      "Epoch 19/50\n",
      "18300/18300 [==============================] - 28s 2ms/sample - loss: 0.2233 - accuracy: 0.9306 - val_loss: 0.3897 - val_accuracy: 0.8944\n",
      "Epoch 20/50\n",
      "18300/18300 [==============================] - 28s 2ms/sample - loss: 0.2220 - accuracy: 0.9332 - val_loss: 0.3949 - val_accuracy: 0.8839\n",
      "Epoch 21/50\n",
      "18300/18300 [==============================] - 19s 1ms/sample - loss: 0.2215 - accuracy: 0.9320 - val_loss: 0.4306 - val_accuracy: 0.8867\n",
      "Epoch 22/50\n",
      "18300/18300 [==============================] - 17s 951us/sample - loss: 0.2117 - accuracy: 0.9356 - val_loss: 0.4013 - val_accuracy: 0.8870\n",
      "Epoch 23/50\n",
      "18300/18300 [==============================] - 17s 954us/sample - loss: 0.1944 - accuracy: 0.9404 - val_loss: 0.3812 - val_accuracy: 0.8897\n",
      "Epoch 24/50\n",
      "18300/18300 [==============================] - 18s 972us/sample - loss: 0.1707 - accuracy: 0.9481 - val_loss: 0.4227 - val_accuracy: 0.8851\n",
      "Epoch 25/50\n",
      "18300/18300 [==============================] - 18s 978us/sample - loss: 0.1973 - accuracy: 0.9416 - val_loss: 0.4028 - val_accuracy: 0.8933\n",
      "Epoch 26/50\n",
      "18300/18300 [==============================] - 18s 975us/sample - loss: 0.1877 - accuracy: 0.9442 - val_loss: 0.3918 - val_accuracy: 0.8887\n",
      "Epoch 27/50\n",
      "18300/18300 [==============================] - 17s 951us/sample - loss: 0.1757 - accuracy: 0.9470 - val_loss: 0.3949 - val_accuracy: 0.8943\n",
      "Epoch 28/50\n",
      "18300/18300 [==============================] - 17s 953us/sample - loss: 0.1751 - accuracy: 0.9462 - val_loss: 0.4267 - val_accuracy: 0.8951\n",
      "Epoch 29/50\n",
      "18300/18300 [==============================] - 20s 1ms/sample - loss: 0.1717 - accuracy: 0.9475 - val_loss: 0.4452 - val_accuracy: 0.8931\n",
      "Epoch 30/50\n",
      "18300/18300 [==============================] - 18s 1ms/sample - loss: 0.1783 - accuracy: 0.9474 - val_loss: 0.4147 - val_accuracy: 0.8933\n",
      "Epoch 31/50\n",
      "18300/18300 [==============================] - 18s 1ms/sample - loss: 0.1794 - accuracy: 0.9496 - val_loss: 0.4266 - val_accuracy: 0.8970\n",
      "Epoch 32/50\n",
      "18300/18300 [==============================] - 18s 984us/sample - loss: 0.1685 - accuracy: 0.9500 - val_loss: 0.4134 - val_accuracy: 0.8946\n",
      "Epoch 33/50\n",
      "18300/18300 [==============================] - 18s 978us/sample - loss: 0.1662 - accuracy: 0.9510 - val_loss: 0.4448 - val_accuracy: 0.8918\n",
      "Epoch 34/50\n",
      "18300/18300 [==============================] - 18s 978us/sample - loss: 0.1524 - accuracy: 0.9547 - val_loss: 0.4408 - val_accuracy: 0.8941\n",
      "Epoch 35/50\n",
      "18300/18300 [==============================] - 18s 999us/sample - loss: 0.1721 - accuracy: 0.9515 - val_loss: 0.4385 - val_accuracy: 0.8949\n",
      "Epoch 36/50\n",
      "18300/18300 [==============================] - 18s 967us/sample - loss: 0.1494 - accuracy: 0.9562 - val_loss: 0.4183 - val_accuracy: 0.8943\n",
      "Epoch 37/50\n",
      "18300/18300 [==============================] - 17s 951us/sample - loss: 0.1489 - accuracy: 0.9562 - val_loss: 0.4118 - val_accuracy: 0.8970\n",
      "Epoch 38/50\n",
      "18300/18300 [==============================] - 18s 971us/sample - loss: 0.1495 - accuracy: 0.9584 - val_loss: 0.4485 - val_accuracy: 0.8933\n",
      "Epoch 39/50\n",
      "18300/18300 [==============================] - 17s 938us/sample - loss: 0.1542 - accuracy: 0.9546 - val_loss: 0.4276 - val_accuracy: 0.8920\n",
      "Epoch 40/50\n",
      "18300/18300 [==============================] - 19s 1ms/sample - loss: 0.1552 - accuracy: 0.9545 - val_loss: 0.4492 - val_accuracy: 0.8961\n",
      "Epoch 41/50\n",
      "18300/18300 [==============================] - 18s 992us/sample - loss: 0.1533 - accuracy: 0.9558 - val_loss: 0.4421 - val_accuracy: 0.8984\n",
      "Epoch 42/50\n",
      "18300/18300 [==============================] - 18s 985us/sample - loss: 0.1471 - accuracy: 0.9592 - val_loss: 0.4898 - val_accuracy: 0.8967\n",
      "Epoch 43/50\n",
      "18300/18300 [==============================] - 18s 976us/sample - loss: 0.1625 - accuracy: 0.9549 - val_loss: 0.4422 - val_accuracy: 0.8961\n",
      "Epoch 44/50\n",
      "18300/18300 [==============================] - 19s 1ms/sample - loss: 0.1434 - accuracy: 0.9585 - val_loss: 0.4703 - val_accuracy: 0.8938\n",
      "Epoch 45/50\n",
      "18300/18300 [==============================] - 18s 996us/sample - loss: 0.1427 - accuracy: 0.9585 - val_loss: 0.4656 - val_accuracy: 0.8969\n",
      "Epoch 46/50\n",
      "18300/18300 [==============================] - 18s 986us/sample - loss: 0.1322 - accuracy: 0.9610 - val_loss: 0.5098 - val_accuracy: 0.8907\n",
      "Epoch 47/50\n",
      "18300/18300 [==============================] - 18s 984us/sample - loss: 0.1444 - accuracy: 0.9611 - val_loss: 0.4839 - val_accuracy: 0.8977\n",
      "Epoch 48/50\n",
      "18300/18300 [==============================] - 18s 987us/sample - loss: 0.1452 - accuracy: 0.9593 - val_loss: 0.4800 - val_accuracy: 0.8934\n",
      "Epoch 49/50\n",
      "18300/18300 [==============================] - 18s 986us/sample - loss: 0.1465 - accuracy: 0.9571 - val_loss: 0.4677 - val_accuracy: 0.8951\n",
      "Epoch 50/50\n",
      "18300/18300 [==============================] - 18s 984us/sample - loss: 0.1500 - accuracy: 0.9590 - val_loss: 0.4635 - val_accuracy: 0.9013\n"
     ]
    }
   ],
   "source": [
    "train_model(tl_model_2, ResNet50_train_features, ResNet50_train_labels, ResNet50_validation_features, ResNet50_validation_labels)"
   ]
  },
  {
   "cell_type": "code",
   "execution_count": 31,
   "metadata": {},
   "outputs": [],
   "source": [
    "results['ResNet50'] = get_metrics(tl_model_2, ResNet50_test_features, ResNet50_test_labels)"
   ]
  },
  {
   "cell_type": "code",
   "execution_count": 41,
   "metadata": {},
   "outputs": [
    {
     "data": {
      "text/plain": [
       "((18300, 2048),\n",
       " (6100, 2048),\n",
       " (6100, 2048),\n",
       " (18300, 10),\n",
       " (6100, 10),\n",
       " (6100, 10))"
      ]
     },
     "execution_count": 41,
     "metadata": {},
     "output_type": "execute_result"
    }
   ],
   "source": [
    "tl_name_3 = 'Vgg19'\n",
    "Vgg19_train_features, Vgg19_validation_features, Vgg19_test_features, Vgg19_train_labels, Vgg19_validation_labels, Vgg19_test_labels = tl_features(tl_name_3)\n",
    "Vgg19_train_features.shape, Vgg19_validation_features.shape, Vgg19_test_features.shape, Vgg19_train_labels.shape, Vgg19_validation_labels.shape, Vgg19_test_labels.shape"
   ]
  },
  {
   "cell_type": "code",
   "execution_count": 42,
   "metadata": {},
   "outputs": [
    {
     "name": "stdout",
     "output_type": "stream",
     "text": [
      "Model: \"sequential_6\"\n",
      "_________________________________________________________________\n",
      "Layer (type)                 Output Shape              Param #   \n",
      "=================================================================\n",
      "dense_29 (Dense)             (None, 1024)              2098176   \n",
      "_________________________________________________________________\n",
      "dropout_24 (Dropout)         (None, 1024)              0         \n",
      "_________________________________________________________________\n",
      "dense_30 (Dense)             (None, 1024)              1049600   \n",
      "_________________________________________________________________\n",
      "dropout_25 (Dropout)         (None, 1024)              0         \n",
      "_________________________________________________________________\n",
      "dense_31 (Dense)             (None, 512)               524800    \n",
      "_________________________________________________________________\n",
      "dropout_26 (Dropout)         (None, 512)               0         \n",
      "_________________________________________________________________\n",
      "dense_32 (Dense)             (None, 512)               262656    \n",
      "_________________________________________________________________\n",
      "dropout_27 (Dropout)         (None, 512)               0         \n",
      "_________________________________________________________________\n",
      "dense_33 (Dense)             (None, 10)                5130      \n",
      "=================================================================\n",
      "Total params: 3,940,362\n",
      "Trainable params: 3,940,362\n",
      "Non-trainable params: 0\n",
      "_________________________________________________________________\n"
     ]
    }
   ],
   "source": [
    "tl_model_3 = get_model(Vgg19_train_features)\n",
    "tl_model_3.summary()"
   ]
  },
  {
   "cell_type": "code",
   "execution_count": 43,
   "metadata": {},
   "outputs": [
    {
     "name": "stdout",
     "output_type": "stream",
     "text": [
      "Train on 18300 samples, validate on 6100 samples\n",
      "Epoch 1/50\n",
      "18300/18300 [==============================] - 10s 560us/sample - loss: 2.9509 - accuracy: 0.3531 - val_loss: 1.2827 - val_accuracy: 0.5920\n",
      "Epoch 2/50\n",
      "18300/18300 [==============================] - 8s 443us/sample - loss: 1.3776 - accuracy: 0.5334 - val_loss: 1.0406 - val_accuracy: 0.6713\n",
      "Epoch 3/50\n",
      "18300/18300 [==============================] - 8s 439us/sample - loss: 1.1504 - accuracy: 0.6201 - val_loss: 0.8986 - val_accuracy: 0.7195\n",
      "Epoch 4/50\n",
      "18300/18300 [==============================] - 8s 450us/sample - loss: 1.0504 - accuracy: 0.6571 - val_loss: 0.8450 - val_accuracy: 0.7389\n",
      "Epoch 5/50\n",
      "18300/18300 [==============================] - 8s 448us/sample - loss: 0.9556 - accuracy: 0.6881 - val_loss: 0.8029 - val_accuracy: 0.7590\n",
      "Epoch 6/50\n",
      "18300/18300 [==============================] - 8s 453us/sample - loss: 0.8821 - accuracy: 0.7196 - val_loss: 0.7355 - val_accuracy: 0.7659\n",
      "Epoch 7/50\n",
      "18300/18300 [==============================] - 8s 457us/sample - loss: 0.8468 - accuracy: 0.7269 - val_loss: 0.7682 - val_accuracy: 0.7693\n",
      "Epoch 8/50\n",
      "18300/18300 [==============================] - 9s 467us/sample - loss: 0.8137 - accuracy: 0.7401 - val_loss: 0.7307 - val_accuracy: 0.7834\n",
      "Epoch 9/50\n",
      "18300/18300 [==============================] - 8s 446us/sample - loss: 0.7717 - accuracy: 0.7526 - val_loss: 0.7174 - val_accuracy: 0.7759\n",
      "Epoch 10/50\n",
      "18300/18300 [==============================] - 8s 450us/sample - loss: 0.7284 - accuracy: 0.7661 - val_loss: 0.6866 - val_accuracy: 0.7995\n",
      "Epoch 11/50\n",
      "18300/18300 [==============================] - 8s 446us/sample - loss: 0.7005 - accuracy: 0.7748 - val_loss: 0.6444 - val_accuracy: 0.7974\n",
      "Epoch 12/50\n",
      "18300/18300 [==============================] - 8s 452us/sample - loss: 0.6904 - accuracy: 0.7803 - val_loss: 0.6406 - val_accuracy: 0.8018\n",
      "Epoch 13/50\n",
      "18300/18300 [==============================] - 9s 474us/sample - loss: 0.6539 - accuracy: 0.7902 - val_loss: 0.6287 - val_accuracy: 0.8033\n",
      "Epoch 14/50\n",
      "18300/18300 [==============================] - 9s 484us/sample - loss: 0.6458 - accuracy: 0.7942 - val_loss: 0.6234 - val_accuracy: 0.8090\n",
      "Epoch 15/50\n",
      "18300/18300 [==============================] - 9s 487us/sample - loss: 0.6112 - accuracy: 0.8061 - val_loss: 0.5894 - val_accuracy: 0.8148\n",
      "Epoch 16/50\n",
      "18300/18300 [==============================] - 9s 477us/sample - loss: 0.6100 - accuracy: 0.8084 - val_loss: 0.6147 - val_accuracy: 0.8211\n",
      "Epoch 17/50\n",
      "18300/18300 [==============================] - 9s 472us/sample - loss: 0.5914 - accuracy: 0.8156 - val_loss: 0.5897 - val_accuracy: 0.8162\n",
      "Epoch 18/50\n",
      "18300/18300 [==============================] - 9s 467us/sample - loss: 0.5866 - accuracy: 0.8177 - val_loss: 0.5859 - val_accuracy: 0.8180\n",
      "Epoch 19/50\n",
      "18300/18300 [==============================] - 9s 473us/sample - loss: 0.5659 - accuracy: 0.8204 - val_loss: 0.5863 - val_accuracy: 0.8195\n",
      "Epoch 20/50\n",
      "18300/18300 [==============================] - 9s 471us/sample - loss: 0.5634 - accuracy: 0.8206 - val_loss: 0.5787 - val_accuracy: 0.8285\n",
      "Epoch 21/50\n",
      "18300/18300 [==============================] - 9s 470us/sample - loss: 0.5679 - accuracy: 0.8212 - val_loss: 0.5808 - val_accuracy: 0.8225\n",
      "Epoch 22/50\n",
      "18300/18300 [==============================] - 9s 470us/sample - loss: 0.5409 - accuracy: 0.8301 - val_loss: 0.5760 - val_accuracy: 0.8305\n",
      "Epoch 23/50\n",
      "18300/18300 [==============================] - 9s 480us/sample - loss: 0.5327 - accuracy: 0.8310 - val_loss: 0.5629 - val_accuracy: 0.8357\n",
      "Epoch 24/50\n",
      "18300/18300 [==============================] - 9s 469us/sample - loss: 0.5241 - accuracy: 0.8337 - val_loss: 0.5616 - val_accuracy: 0.8231\n",
      "Epoch 25/50\n",
      "18300/18300 [==============================] - 9s 474us/sample - loss: 0.5052 - accuracy: 0.8409 - val_loss: 0.5604 - val_accuracy: 0.8282\n",
      "Epoch 26/50\n",
      "18300/18300 [==============================] - 9s 469us/sample - loss: 0.4979 - accuracy: 0.8403 - val_loss: 0.5607 - val_accuracy: 0.8297\n",
      "Epoch 27/50\n",
      "18300/18300 [==============================] - 9s 472us/sample - loss: 0.5056 - accuracy: 0.8396 - val_loss: 0.5683 - val_accuracy: 0.8284\n",
      "Epoch 28/50\n",
      "18300/18300 [==============================] - 9s 473us/sample - loss: 0.4720 - accuracy: 0.8527 - val_loss: 0.5518 - val_accuracy: 0.8336\n",
      "Epoch 29/50\n",
      "18300/18300 [==============================] - 9s 472us/sample - loss: 0.4840 - accuracy: 0.8490 - val_loss: 0.5726 - val_accuracy: 0.8256\n",
      "Epoch 30/50\n",
      "18300/18300 [==============================] - 9s 468us/sample - loss: 0.4919 - accuracy: 0.8469 - val_loss: 0.5776 - val_accuracy: 0.8246\n",
      "Epoch 31/50\n",
      "18300/18300 [==============================] - 9s 478us/sample - loss: 0.4777 - accuracy: 0.8526 - val_loss: 0.5573 - val_accuracy: 0.8284\n",
      "Epoch 32/50\n",
      "18300/18300 [==============================] - 9s 476us/sample - loss: 0.4760 - accuracy: 0.8511 - val_loss: 0.5827 - val_accuracy: 0.8321\n",
      "Epoch 33/50\n",
      "18300/18300 [==============================] - 9s 500us/sample - loss: 0.4757 - accuracy: 0.8533 - val_loss: 0.5633 - val_accuracy: 0.8359\n",
      "Epoch 34/50\n",
      "18300/18300 [==============================] - 9s 489us/sample - loss: 0.4554 - accuracy: 0.8551 - val_loss: 0.5698 - val_accuracy: 0.8348\n",
      "Epoch 35/50\n",
      "18300/18300 [==============================] - 9s 492us/sample - loss: 0.4510 - accuracy: 0.8630 - val_loss: 0.5448 - val_accuracy: 0.8400\n",
      "Epoch 36/50\n",
      "18300/18300 [==============================] - 9s 489us/sample - loss: 0.4440 - accuracy: 0.8634 - val_loss: 0.5551 - val_accuracy: 0.8348\n",
      "Epoch 37/50\n",
      "18300/18300 [==============================] - 9s 487us/sample - loss: 0.4343 - accuracy: 0.8667 - val_loss: 0.5310 - val_accuracy: 0.8436\n",
      "Epoch 38/50\n",
      "18300/18300 [==============================] - 9s 474us/sample - loss: 0.4319 - accuracy: 0.8656 - val_loss: 0.5743 - val_accuracy: 0.8302\n",
      "Epoch 39/50\n",
      "18300/18300 [==============================] - 9s 485us/sample - loss: 0.4184 - accuracy: 0.8701 - val_loss: 0.5554 - val_accuracy: 0.8346\n",
      "Epoch 40/50\n",
      "18300/18300 [==============================] - 9s 481us/sample - loss: 0.4291 - accuracy: 0.8681 - val_loss: 0.5401 - val_accuracy: 0.8454\n",
      "Epoch 41/50\n",
      "18300/18300 [==============================] - 9s 475us/sample - loss: 0.4241 - accuracy: 0.8718 - val_loss: 0.5505 - val_accuracy: 0.8402\n",
      "Epoch 42/50\n",
      "18300/18300 [==============================] - 9s 470us/sample - loss: 0.4204 - accuracy: 0.8733 - val_loss: 0.5289 - val_accuracy: 0.8385\n",
      "Epoch 43/50\n",
      "18300/18300 [==============================] - 9s 482us/sample - loss: 0.4075 - accuracy: 0.8763 - val_loss: 0.5584 - val_accuracy: 0.8400\n",
      "Epoch 44/50\n",
      "18300/18300 [==============================] - 9s 482us/sample - loss: 0.4124 - accuracy: 0.8751 - val_loss: 0.5254 - val_accuracy: 0.8361\n",
      "Epoch 45/50\n",
      "18300/18300 [==============================] - 9s 473us/sample - loss: 0.4147 - accuracy: 0.8748 - val_loss: 0.5556 - val_accuracy: 0.8407\n",
      "Epoch 46/50\n",
      "18300/18300 [==============================] - 9s 473us/sample - loss: 0.4219 - accuracy: 0.8692 - val_loss: 0.5417 - val_accuracy: 0.8484\n",
      "Epoch 47/50\n",
      "18300/18300 [==============================] - 9s 472us/sample - loss: 0.4048 - accuracy: 0.8772 - val_loss: 0.5349 - val_accuracy: 0.8402\n",
      "Epoch 48/50\n",
      "18300/18300 [==============================] - 9s 496us/sample - loss: 0.4219 - accuracy: 0.8748 - val_loss: 0.5675 - val_accuracy: 0.8446\n",
      "Epoch 49/50\n",
      "18300/18300 [==============================] - 9s 484us/sample - loss: 0.4089 - accuracy: 0.8770 - val_loss: 0.5348 - val_accuracy: 0.8467\n",
      "Epoch 50/50\n",
      "18300/18300 [==============================] - 9s 480us/sample - loss: 0.3969 - accuracy: 0.8789 - val_loss: 0.5609 - val_accuracy: 0.8441\n"
     ]
    }
   ],
   "source": [
    "train_model(tl_model_3, Vgg19_train_features, Vgg19_train_labels, Vgg19_validation_features, Vgg19_validation_labels)"
   ]
  },
  {
   "cell_type": "code",
   "execution_count": 44,
   "metadata": {},
   "outputs": [],
   "source": [
    "results['Vgg19'] = get_metrics(tl_model_3, Vgg19_test_features, Vgg19_test_labels)"
   ]
  },
  {
   "cell_type": "code",
   "execution_count": 47,
   "metadata": {},
   "outputs": [],
   "source": [
    "results.to_csv('results.csv')"
   ]
  },
  {
   "cell_type": "code",
   "execution_count": 5,
   "metadata": {},
   "outputs": [
    {
     "data": {
      "text/html": [
       "<div>\n",
       "<style scoped>\n",
       "    .dataframe tbody tr th:only-of-type {\n",
       "        vertical-align: middle;\n",
       "    }\n",
       "\n",
       "    .dataframe tbody tr th {\n",
       "        vertical-align: top;\n",
       "    }\n",
       "\n",
       "    .dataframe thead th {\n",
       "        text-align: right;\n",
       "    }\n",
       "</style>\n",
       "<table border=\"1\" class=\"dataframe\">\n",
       "  <thead>\n",
       "    <tr style=\"text-align: right;\">\n",
       "      <th></th>\n",
       "      <th>metrics</th>\n",
       "      <th>Vgg16</th>\n",
       "      <th>ResNet50</th>\n",
       "      <th>Vgg19</th>\n",
       "    </tr>\n",
       "  </thead>\n",
       "  <tbody>\n",
       "    <tr>\n",
       "      <th>0</th>\n",
       "      <td>Accuracy</td>\n",
       "      <td>0.8830</td>\n",
       "      <td>0.9005</td>\n",
       "      <td>0.8387</td>\n",
       "    </tr>\n",
       "    <tr>\n",
       "      <th>1</th>\n",
       "      <td>Precision</td>\n",
       "      <td>0.8871</td>\n",
       "      <td>0.9007</td>\n",
       "      <td>0.8425</td>\n",
       "    </tr>\n",
       "    <tr>\n",
       "      <th>2</th>\n",
       "      <td>Recall</td>\n",
       "      <td>0.8830</td>\n",
       "      <td>0.9005</td>\n",
       "      <td>0.8387</td>\n",
       "    </tr>\n",
       "    <tr>\n",
       "      <th>3</th>\n",
       "      <td>F1_Score</td>\n",
       "      <td>0.8834</td>\n",
       "      <td>0.9002</td>\n",
       "      <td>0.8382</td>\n",
       "    </tr>\n",
       "  </tbody>\n",
       "</table>\n",
       "</div>"
      ],
      "text/plain": [
       "     metrics   Vgg16  ResNet50   Vgg19\n",
       "0   Accuracy  0.8830    0.9005  0.8387\n",
       "1  Precision  0.8871    0.9007  0.8425\n",
       "2     Recall  0.8830    0.9005  0.8387\n",
       "3   F1_Score  0.8834    0.9002  0.8382"
      ]
     },
     "execution_count": 5,
     "metadata": {},
     "output_type": "execute_result"
    }
   ],
   "source": [
    "results"
   ]
  },
  {
   "cell_type": "code",
   "execution_count": null,
   "metadata": {},
   "outputs": [],
   "source": []
  }
 ],
 "metadata": {
  "kernelspec": {
   "display_name": "Python 3",
   "language": "python",
   "name": "python3"
  },
  "language_info": {
   "codemirror_mode": {
    "name": "ipython",
    "version": 3
   },
   "file_extension": ".py",
   "mimetype": "text/x-python",
   "name": "python",
   "nbconvert_exporter": "python",
   "pygments_lexer": "ipython3",
   "version": "3.7.7"
  }
 },
 "nbformat": 4,
 "nbformat_minor": 4
}
