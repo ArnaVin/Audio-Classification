{
 "cells": [
  {
   "cell_type": "code",
   "execution_count": 1,
   "metadata": {
    "colab": {},
    "colab_type": "code",
    "id": "0fXQqSjGQnlr"
   },
   "outputs": [],
   "source": [
    "import numpy as np\n",
    "import pandas as pd\n",
    "import pickle\n",
    "from sklearn.model_selection import train_test_split\n",
    "from tensorflow import keras\n",
    "from tensorflow.keras.utils import to_categorical\n",
    "from tensorflow.keras.models import Sequential\n",
    "from tensorflow.keras.layers import LSTM, Flatten, Dense, Dropout, Bidirectional\n",
    "from matplotlib import pyplot"
   ]
  },
  {
   "cell_type": "code",
   "execution_count": 2,
   "metadata": {
    "colab": {},
    "colab_type": "code",
    "id": "1OpdGxpVQnl1"
   },
   "outputs": [],
   "source": [
    "data_f = open(\"features.pickle\",\"rb\")\n",
    "data = pickle.load(data_f)\n",
    "data_f.close()"
   ]
  },
  {
   "cell_type": "code",
   "execution_count": 3,
   "metadata": {
    "colab": {
     "base_uri": "https://localhost:8080/",
     "height": 34
    },
    "colab_type": "code",
    "id": "XUKdojZbQnl8",
    "outputId": "16836d11-2b7d-4cc7-d900-daa8eaace0f2"
   },
   "outputs": [
    {
     "name": "stdout",
     "output_type": "stream",
     "text": [
      "(8732,) (8732,)\n"
     ]
    }
   ],
   "source": [
    "X_ = data[:, 0]\n",
    "Y = data[:, 1]\n",
    "print(X_.shape, Y.shape)"
   ]
  },
  {
   "cell_type": "code",
   "execution_count": 4,
   "metadata": {
    "colab": {},
    "colab_type": "code",
    "id": "sll8HwRsQnmE"
   },
   "outputs": [],
   "source": [
    "X = np.empty([8732, 128])\n",
    "for i in range(8732):\n",
    "    X[i] = (X_[i])"
   ]
  },
  {
   "cell_type": "code",
   "execution_count": 5,
   "metadata": {
    "colab": {},
    "colab_type": "code",
    "id": "6DCu76jTQnmK"
   },
   "outputs": [],
   "source": [
    "Y = to_categorical(Y)"
   ]
  },
  {
   "cell_type": "code",
   "execution_count": 6,
   "metadata": {
    "colab": {
     "base_uri": "https://localhost:8080/",
     "height": 34
    },
    "colab_type": "code",
    "id": "mCTFocpRQnmQ",
    "outputId": "20f37a14-a07c-4da2-a1dd-2cfa9331348d"
   },
   "outputs": [
    {
     "name": "stdout",
     "output_type": "stream",
     "text": [
      "(8732, 128) (8732, 10)\n"
     ]
    }
   ],
   "source": [
    "print(X.shape, Y.shape)"
   ]
  },
  {
   "cell_type": "code",
   "execution_count": 7,
   "metadata": {
    "colab": {
     "base_uri": "https://localhost:8080/",
     "height": 34
    },
    "colab_type": "code",
    "id": "Rvz5acyCQnmX",
    "outputId": "e74abdbe-4c3c-442a-e8a2-55a0ab4000fe"
   },
   "outputs": [
    {
     "name": "stdout",
     "output_type": "stream",
     "text": [
      "(6549, 128) (2183, 128) (6549, 10) (2183, 10)\n"
     ]
    }
   ],
   "source": [
    "X_train, X_test, Y_train, Y_test = train_test_split(X, Y, random_state = 1)\n",
    "print(X_train.shape, X_test.shape, Y_train.shape, Y_test.shape)"
   ]
  },
  {
   "cell_type": "code",
   "execution_count": 8,
   "metadata": {
    "colab": {},
    "colab_type": "code",
    "id": "ubpq7ozCQnmg"
   },
   "outputs": [],
   "source": [
    "X_train = X_train.reshape(6549, 16, 8)\n",
    "X_test  = X_test.reshape(2183, 16, 8)\n",
    "\n",
    "# X_train, X_test shape : (total # of training examples, sequence_length, input_dim)\n",
    "# Y_train, Y_test shape : (total # of training examples, # output classes)"
   ]
  },
  {
   "cell_type": "code",
   "execution_count": 9,
   "metadata": {
    "colab": {},
    "colab_type": "code",
    "id": "Vf7JZcVnQnmm"
   },
   "outputs": [],
   "source": [
    "def get_lstm_model():\n",
    "    model = Sequential()\n",
    "    model.add(LSTM(units=128, dropout=0.05, recurrent_dropout=0.35, return_sequences=True, input_shape=(16, 8)))\n",
    "    model.add(LSTM(units=32,  dropout=0.05, recurrent_dropout=0.35, return_sequences=False))\n",
    "    model.add(Dense(units=10, activation=\"softmax\"))\n",
    "    model.compile(loss=\"categorical_crossentropy\", optimizer='adam', metrics=[\"accuracy\"])\n",
    "    return model"
   ]
  },
  {
   "cell_type": "code",
   "execution_count": 10,
   "metadata": {
    "colab": {},
    "colab_type": "code",
    "id": "ptVKHOo1Qnmr"
   },
   "outputs": [],
   "source": [
    "def get_bi_lstm_model():\n",
    "    model = Sequential()\n",
    "    model.add(Bidirectional(LSTM(units=128, dropout=0.05, recurrent_dropout=0.35, return_sequences=True, input_shape=(16, 8))))\n",
    "    model.add(LSTM(units=32,  dropout=0.05, recurrent_dropout=0.35, return_sequences=False))\n",
    "    model.add((Dense(units=10, activation=\"softmax\")))\n",
    "    model.compile(loss=\"categorical_crossentropy\", optimizer='adam', metrics=[\"accuracy\"])\n",
    "    return model"
   ]
  },
  {
   "cell_type": "code",
   "execution_count": 19,
   "metadata": {
    "colab": {},
    "colab_type": "code",
    "id": "LLUnESbzQnmw"
   },
   "outputs": [],
   "source": [
    "def train_model(model):\n",
    "    loss = list()\n",
    "    accuracy = list()\n",
    "    for _ in range(85):\n",
    "        hist = model.fit(X_train, Y_train, epochs = 1, batch_size = 50, validation_data = (X_test, Y_test), verbose=1)\n",
    "        loss.append(hist.history['loss'][0])\n",
    "        accuracy.append(hist.history['accuracy'][0])\n",
    "    return loss, accuracy"
   ]
  },
  {
   "cell_type": "code",
   "execution_count": 15,
   "metadata": {
    "colab": {},
    "colab_type": "code",
    "id": "JJmmpjwxQnm2"
   },
   "outputs": [],
   "source": [
    "loss_results = pd.DataFrame()\n",
    "acc_results = pd.DataFrame()"
   ]
  },
  {
   "cell_type": "code",
   "execution_count": 20,
   "metadata": {
    "colab": {
     "base_uri": "https://localhost:8080/",
     "height": 1000
    },
    "colab_type": "code",
    "id": "oxh1DyzJQnm7",
    "outputId": "4c85ee79-a0d9-4560-ed73-5eb3371fdde1"
   },
   "outputs": [
    {
     "name": "stdout",
     "output_type": "stream",
     "text": [
      "131/131 [==============================] - 10s 77ms/step - loss: 2.0159 - accuracy: 0.2770 - val_loss: 1.8077 - val_accuracy: 0.3637\n",
      "131/131 [==============================] - 9s 71ms/step - loss: 1.7240 - accuracy: 0.3895 - val_loss: 1.6431 - val_accuracy: 0.4233\n",
      "131/131 [==============================] - 9s 71ms/step - loss: 1.6054 - accuracy: 0.4361 - val_loss: 1.5474 - val_accuracy: 0.4691\n",
      "131/131 [==============================] - 9s 71ms/step - loss: 1.4947 - accuracy: 0.4796 - val_loss: 1.4501 - val_accuracy: 0.5277\n",
      "131/131 [==============================] - 9s 70ms/step - loss: 1.3990 - accuracy: 0.5144 - val_loss: 1.3917 - val_accuracy: 0.5360\n",
      "131/131 [==============================] - 9s 70ms/step - loss: 1.3509 - accuracy: 0.5383 - val_loss: 1.3326 - val_accuracy: 0.5648\n",
      "131/131 [==============================] - 9s 70ms/step - loss: 1.2940 - accuracy: 0.5569 - val_loss: 1.2539 - val_accuracy: 0.5841\n",
      "131/131 [==============================] - 9s 70ms/step - loss: 1.2441 - accuracy: 0.5752 - val_loss: 1.2958 - val_accuracy: 0.5598\n",
      "131/131 [==============================] - 9s 70ms/step - loss: 1.2042 - accuracy: 0.5958 - val_loss: 1.1772 - val_accuracy: 0.6111\n",
      "131/131 [==============================] - 9s 70ms/step - loss: 1.1662 - accuracy: 0.5978 - val_loss: 1.1252 - val_accuracy: 0.6184\n",
      "131/131 [==============================] - 9s 70ms/step - loss: 1.1246 - accuracy: 0.6157 - val_loss: 1.1397 - val_accuracy: 0.6093\n",
      "131/131 [==============================] - 9s 69ms/step - loss: 1.1155 - accuracy: 0.6224 - val_loss: 1.1393 - val_accuracy: 0.6198\n",
      "131/131 [==============================] - 9s 68ms/step - loss: 1.0792 - accuracy: 0.6277 - val_loss: 1.0887 - val_accuracy: 0.6239\n",
      "131/131 [==============================] - 9s 72ms/step - loss: 1.0386 - accuracy: 0.6519 - val_loss: 1.0298 - val_accuracy: 0.6432\n",
      "131/131 [==============================] - 9s 70ms/step - loss: 1.0120 - accuracy: 0.6538 - val_loss: 1.0066 - val_accuracy: 0.6532\n",
      "131/131 [==============================] - 9s 71ms/step - loss: 0.9884 - accuracy: 0.6641 - val_loss: 0.9916 - val_accuracy: 0.6601\n",
      "131/131 [==============================] - 9s 72ms/step - loss: 0.9641 - accuracy: 0.6769 - val_loss: 0.9905 - val_accuracy: 0.6711\n",
      "131/131 [==============================] - 9s 70ms/step - loss: 0.9439 - accuracy: 0.6774 - val_loss: 1.0024 - val_accuracy: 0.6661\n",
      "131/131 [==============================] - 9s 69ms/step - loss: 0.9297 - accuracy: 0.6836 - val_loss: 0.9851 - val_accuracy: 0.6679\n",
      "131/131 [==============================] - 10s 75ms/step - loss: 0.8956 - accuracy: 0.6943 - val_loss: 0.9425 - val_accuracy: 0.6803\n",
      "131/131 [==============================] - 10s 75ms/step - loss: 0.8775 - accuracy: 0.7010 - val_loss: 0.9315 - val_accuracy: 0.6848\n",
      "131/131 [==============================] - 9s 68ms/step - loss: 0.8815 - accuracy: 0.6948 - val_loss: 0.9008 - val_accuracy: 0.7000\n",
      "131/131 [==============================] - 9s 68ms/step - loss: 0.8395 - accuracy: 0.7108 - val_loss: 0.8829 - val_accuracy: 0.7064\n",
      "131/131 [==============================] - 9s 68ms/step - loss: 0.8390 - accuracy: 0.7178 - val_loss: 0.8931 - val_accuracy: 0.7082\n",
      "131/131 [==============================] - 9s 70ms/step - loss: 0.8104 - accuracy: 0.7224 - val_loss: 0.8760 - val_accuracy: 0.7087\n",
      "131/131 [==============================] - 9s 69ms/step - loss: 0.8094 - accuracy: 0.7216 - val_loss: 0.8599 - val_accuracy: 0.7041\n",
      "131/131 [==============================] - 9s 69ms/step - loss: 0.7964 - accuracy: 0.7319 - val_loss: 0.8590 - val_accuracy: 0.7059\n",
      "131/131 [==============================] - 9s 69ms/step - loss: 0.7859 - accuracy: 0.7296 - val_loss: 0.8399 - val_accuracy: 0.7169\n",
      "131/131 [==============================] - 9s 71ms/step - loss: 0.7643 - accuracy: 0.7435 - val_loss: 0.8190 - val_accuracy: 0.7238\n",
      "131/131 [==============================] - 9s 70ms/step - loss: 0.7524 - accuracy: 0.7412 - val_loss: 0.8299 - val_accuracy: 0.7224\n",
      "131/131 [==============================] - 9s 69ms/step - loss: 0.7453 - accuracy: 0.7520 - val_loss: 0.8420 - val_accuracy: 0.7210\n",
      "131/131 [==============================] - 9s 70ms/step - loss: 0.7355 - accuracy: 0.7522 - val_loss: 0.8488 - val_accuracy: 0.7192\n",
      "131/131 [==============================] - 9s 70ms/step - loss: 0.7387 - accuracy: 0.7508 - val_loss: 0.8101 - val_accuracy: 0.7311\n",
      "131/131 [==============================] - 11s 82ms/step - loss: 0.7161 - accuracy: 0.7561 - val_loss: 0.8201 - val_accuracy: 0.7334\n",
      "131/131 [==============================] - 13s 97ms/step - loss: 0.7088 - accuracy: 0.7604 - val_loss: 0.8225 - val_accuracy: 0.7302\n",
      "131/131 [==============================] - 10s 73ms/step - loss: 0.6965 - accuracy: 0.7623 - val_loss: 0.7915 - val_accuracy: 0.7297\n",
      "131/131 [==============================] - 10s 76ms/step - loss: 0.6960 - accuracy: 0.7636 - val_loss: 0.7834 - val_accuracy: 0.7302\n",
      "131/131 [==============================] - 10s 74ms/step - loss: 0.6684 - accuracy: 0.7687 - val_loss: 0.7664 - val_accuracy: 0.7398\n",
      "131/131 [==============================] - 9s 70ms/step - loss: 0.6778 - accuracy: 0.7705 - val_loss: 0.7857 - val_accuracy: 0.7384\n",
      "131/131 [==============================] - 9s 69ms/step - loss: 0.6326 - accuracy: 0.7849 - val_loss: 0.7863 - val_accuracy: 0.7453\n",
      "131/131 [==============================] - 9s 70ms/step - loss: 0.6480 - accuracy: 0.7777 - val_loss: 0.7727 - val_accuracy: 0.7481\n",
      "131/131 [==============================] - 9s 71ms/step - loss: 0.6489 - accuracy: 0.7810 - val_loss: 0.7687 - val_accuracy: 0.7536\n",
      "131/131 [==============================] - 9s 71ms/step - loss: 0.6224 - accuracy: 0.7861 - val_loss: 0.7823 - val_accuracy: 0.7416\n",
      "131/131 [==============================] - 9s 69ms/step - loss: 0.6125 - accuracy: 0.7942 - val_loss: 0.7737 - val_accuracy: 0.7522\n",
      "131/131 [==============================] - 9s 69ms/step - loss: 0.6138 - accuracy: 0.7925 - val_loss: 0.7588 - val_accuracy: 0.7448\n",
      "131/131 [==============================] - 9s 72ms/step - loss: 0.6132 - accuracy: 0.7911 - val_loss: 0.7420 - val_accuracy: 0.7549\n",
      "131/131 [==============================] - 9s 69ms/step - loss: 0.5944 - accuracy: 0.7960 - val_loss: 0.7426 - val_accuracy: 0.7586\n",
      "131/131 [==============================] - 9s 68ms/step - loss: 0.6033 - accuracy: 0.7910 - val_loss: 0.7360 - val_accuracy: 0.7577\n",
      "131/131 [==============================] - 9s 69ms/step - loss: 0.5764 - accuracy: 0.8035 - val_loss: 0.7216 - val_accuracy: 0.7627\n",
      "131/131 [==============================] - 9s 72ms/step - loss: 0.5895 - accuracy: 0.7987 - val_loss: 0.7359 - val_accuracy: 0.7545\n",
      "131/131 [==============================] - 9s 71ms/step - loss: 0.5696 - accuracy: 0.8035 - val_loss: 0.7235 - val_accuracy: 0.7595\n",
      "131/131 [==============================] - 9s 70ms/step - loss: 0.5631 - accuracy: 0.8053 - val_loss: 0.7331 - val_accuracy: 0.7687\n",
      "131/131 [==============================] - 10s 75ms/step - loss: 0.5581 - accuracy: 0.8071 - val_loss: 0.7273 - val_accuracy: 0.7700\n",
      "131/131 [==============================] - 9s 69ms/step - loss: 0.5590 - accuracy: 0.8094 - val_loss: 0.7281 - val_accuracy: 0.7687\n",
      "131/131 [==============================] - 9s 69ms/step - loss: 0.5475 - accuracy: 0.8149 - val_loss: 0.7233 - val_accuracy: 0.7636\n",
      "131/131 [==============================] - 9s 69ms/step - loss: 0.5564 - accuracy: 0.8087 - val_loss: 0.7281 - val_accuracy: 0.7696\n",
      "131/131 [==============================] - 9s 70ms/step - loss: 0.5287 - accuracy: 0.8209 - val_loss: 0.7431 - val_accuracy: 0.7655\n",
      "131/131 [==============================] - 9s 69ms/step - loss: 0.5416 - accuracy: 0.8162 - val_loss: 0.7293 - val_accuracy: 0.7705\n",
      "131/131 [==============================] - 9s 69ms/step - loss: 0.5355 - accuracy: 0.8175 - val_loss: 0.6893 - val_accuracy: 0.7787\n",
      "131/131 [==============================] - 9s 69ms/step - loss: 0.5151 - accuracy: 0.8262 - val_loss: 0.7052 - val_accuracy: 0.7723\n",
      "131/131 [==============================] - 9s 69ms/step - loss: 0.5082 - accuracy: 0.8304 - val_loss: 0.6911 - val_accuracy: 0.7838\n",
      "131/131 [==============================] - 9s 71ms/step - loss: 0.4948 - accuracy: 0.8326 - val_loss: 0.7054 - val_accuracy: 0.7824\n",
      "131/131 [==============================] - 9s 70ms/step - loss: 0.4976 - accuracy: 0.8305 - val_loss: 0.7078 - val_accuracy: 0.7787\n",
      "131/131 [==============================] - 9s 71ms/step - loss: 0.5012 - accuracy: 0.8314 - val_loss: 0.7158 - val_accuracy: 0.7746\n",
      "131/131 [==============================] - 9s 70ms/step - loss: 0.4950 - accuracy: 0.8326 - val_loss: 0.6958 - val_accuracy: 0.7824\n",
      "131/131 [==============================] - 9s 70ms/step - loss: 0.4975 - accuracy: 0.8278 - val_loss: 0.6925 - val_accuracy: 0.7847\n",
      "131/131 [==============================] - 9s 69ms/step - loss: 0.4957 - accuracy: 0.8314 - val_loss: 0.6991 - val_accuracy: 0.7778\n",
      "131/131 [==============================] - 9s 70ms/step - loss: 0.4896 - accuracy: 0.8316 - val_loss: 0.6876 - val_accuracy: 0.7865\n",
      "131/131 [==============================] - 9s 70ms/step - loss: 0.4785 - accuracy: 0.8401 - val_loss: 0.6760 - val_accuracy: 0.7934\n",
      "131/131 [==============================] - 10s 73ms/step - loss: 0.4858 - accuracy: 0.8363 - val_loss: 0.7017 - val_accuracy: 0.7879\n",
      "131/131 [==============================] - 9s 69ms/step - loss: 0.4704 - accuracy: 0.8426 - val_loss: 0.6877 - val_accuracy: 0.7911\n",
      "131/131 [==============================] - 9s 69ms/step - loss: 0.4605 - accuracy: 0.8446 - val_loss: 0.7064 - val_accuracy: 0.7774\n",
      "131/131 [==============================] - 9s 68ms/step - loss: 0.4501 - accuracy: 0.8472 - val_loss: 0.6772 - val_accuracy: 0.7897\n",
      "131/131 [==============================] - 9s 68ms/step - loss: 0.4612 - accuracy: 0.8487 - val_loss: 0.7295 - val_accuracy: 0.7778\n",
      "131/131 [==============================] - 9s 70ms/step - loss: 0.4593 - accuracy: 0.8443 - val_loss: 0.6779 - val_accuracy: 0.7893\n",
      "131/131 [==============================] - 9s 69ms/step - loss: 0.4485 - accuracy: 0.8465 - val_loss: 0.7133 - val_accuracy: 0.7874\n",
      "131/131 [==============================] - 9s 70ms/step - loss: 0.4450 - accuracy: 0.8491 - val_loss: 0.6666 - val_accuracy: 0.7929\n",
      "131/131 [==============================] - 9s 68ms/step - loss: 0.4477 - accuracy: 0.8435 - val_loss: 0.7111 - val_accuracy: 0.7801\n",
      "131/131 [==============================] - 9s 69ms/step - loss: 0.4354 - accuracy: 0.8504 - val_loss: 0.6744 - val_accuracy: 0.7929\n",
      "131/131 [==============================] - 9s 69ms/step - loss: 0.4293 - accuracy: 0.8560 - val_loss: 0.7078 - val_accuracy: 0.7755\n",
      "131/131 [==============================] - 9s 68ms/step - loss: 0.4266 - accuracy: 0.8523 - val_loss: 0.7106 - val_accuracy: 0.7746\n",
      "131/131 [==============================] - 9s 69ms/step - loss: 0.4409 - accuracy: 0.8507 - val_loss: 0.7169 - val_accuracy: 0.7783\n",
      "131/131 [==============================] - 9s 69ms/step - loss: 0.4296 - accuracy: 0.8560 - val_loss: 0.6683 - val_accuracy: 0.7907\n",
      "131/131 [==============================] - 9s 70ms/step - loss: 0.4270 - accuracy: 0.8559 - val_loss: 0.6818 - val_accuracy: 0.7879\n",
      "131/131 [==============================] - 9s 69ms/step - loss: 0.4138 - accuracy: 0.8621 - val_loss: 0.6657 - val_accuracy: 0.7943\n"
     ]
    }
   ],
   "source": [
    "model1 = get_lstm_model()\n",
    "loss_results['lstm'], acc_results['lstm'] = train_model(model1)"
   ]
  },
  {
   "cell_type": "code",
   "execution_count": 21,
   "metadata": {
    "colab": {
     "base_uri": "https://localhost:8080/",
     "height": 1000
    },
    "colab_type": "code",
    "id": "NfnCOpToQnnB",
    "outputId": "c347051a-a96f-4512-f352-504aa452663d"
   },
   "outputs": [
    {
     "name": "stdout",
     "output_type": "stream",
     "text": [
      "131/131 [==============================] - 17s 127ms/step - loss: 1.9561 - accuracy: 0.2866 - val_loss: 1.7603 - val_accuracy: 0.3683\n",
      "131/131 [==============================] - 16s 120ms/step - loss: 1.6590 - accuracy: 0.4008 - val_loss: 1.5866 - val_accuracy: 0.4526\n",
      "131/131 [==============================] - 15s 118ms/step - loss: 1.5321 - accuracy: 0.4474 - val_loss: 1.4651 - val_accuracy: 0.4970\n",
      "131/131 [==============================] - 16s 119ms/step - loss: 1.4345 - accuracy: 0.4908 - val_loss: 1.4693 - val_accuracy: 0.4819\n",
      "131/131 [==============================] - 16s 123ms/step - loss: 1.3493 - accuracy: 0.5262 - val_loss: 1.3459 - val_accuracy: 0.5497\n",
      "131/131 [==============================] - 16s 120ms/step - loss: 1.2820 - accuracy: 0.5555 - val_loss: 1.2573 - val_accuracy: 0.5781\n",
      "131/131 [==============================] - 16s 120ms/step - loss: 1.2000 - accuracy: 0.5938 - val_loss: 1.2113 - val_accuracy: 0.5969\n",
      "131/131 [==============================] - 16s 124ms/step - loss: 1.1674 - accuracy: 0.5992 - val_loss: 1.1357 - val_accuracy: 0.6363\n",
      "131/131 [==============================] - 16s 122ms/step - loss: 1.0988 - accuracy: 0.6325 - val_loss: 1.1203 - val_accuracy: 0.6184\n",
      "131/131 [==============================] - 16s 120ms/step - loss: 1.0683 - accuracy: 0.6387 - val_loss: 1.0595 - val_accuracy: 0.6459\n",
      "131/131 [==============================] - 16s 123ms/step - loss: 1.0304 - accuracy: 0.6529 - val_loss: 1.0491 - val_accuracy: 0.6468\n",
      "131/131 [==============================] - 16s 125ms/step - loss: 0.9937 - accuracy: 0.6647 - val_loss: 1.0234 - val_accuracy: 0.6624\n",
      "131/131 [==============================] - 16s 123ms/step - loss: 0.9584 - accuracy: 0.6774 - val_loss: 0.9797 - val_accuracy: 0.6606\n",
      "131/131 [==============================] - 16s 121ms/step - loss: 0.9176 - accuracy: 0.6893 - val_loss: 0.9660 - val_accuracy: 0.6784\n",
      "131/131 [==============================] - 16s 126ms/step - loss: 0.9040 - accuracy: 0.6948 - val_loss: 0.9345 - val_accuracy: 0.6848\n",
      "131/131 [==============================] - 16s 121ms/step - loss: 0.8793 - accuracy: 0.6967 - val_loss: 0.9042 - val_accuracy: 0.6972\n",
      "131/131 [==============================] - 16s 120ms/step - loss: 0.8647 - accuracy: 0.7035 - val_loss: 0.9262 - val_accuracy: 0.6844\n",
      "131/131 [==============================] - 16s 121ms/step - loss: 0.8423 - accuracy: 0.7117 - val_loss: 0.8909 - val_accuracy: 0.6967\n",
      "131/131 [==============================] - 16s 122ms/step - loss: 0.8041 - accuracy: 0.7265 - val_loss: 0.8658 - val_accuracy: 0.7073\n",
      "131/131 [==============================] - 16s 122ms/step - loss: 0.7773 - accuracy: 0.7403 - val_loss: 0.8549 - val_accuracy: 0.7146\n",
      "131/131 [==============================] - 16s 119ms/step - loss: 0.7769 - accuracy: 0.7368 - val_loss: 0.8541 - val_accuracy: 0.7119\n",
      "131/131 [==============================] - 16s 123ms/step - loss: 0.7596 - accuracy: 0.7377 - val_loss: 0.8227 - val_accuracy: 0.7142\n",
      "131/131 [==============================] - 16s 119ms/step - loss: 0.7311 - accuracy: 0.7481 - val_loss: 0.8245 - val_accuracy: 0.7187\n",
      "131/131 [==============================] - 16s 122ms/step - loss: 0.7224 - accuracy: 0.7534 - val_loss: 0.8207 - val_accuracy: 0.7183\n",
      "131/131 [==============================] - 16s 120ms/step - loss: 0.6998 - accuracy: 0.7616 - val_loss: 0.8148 - val_accuracy: 0.7320\n",
      "131/131 [==============================] - 15s 118ms/step - loss: 0.6983 - accuracy: 0.7624 - val_loss: 0.7808 - val_accuracy: 0.7421\n",
      "131/131 [==============================] - 16s 121ms/step - loss: 0.6701 - accuracy: 0.7713 - val_loss: 0.7934 - val_accuracy: 0.7293\n",
      "131/131 [==============================] - 16s 124ms/step - loss: 0.6753 - accuracy: 0.7685 - val_loss: 0.7691 - val_accuracy: 0.7494\n",
      "131/131 [==============================] - 16s 123ms/step - loss: 0.6512 - accuracy: 0.7789 - val_loss: 0.7506 - val_accuracy: 0.7467\n",
      "131/131 [==============================] - 16s 125ms/step - loss: 0.6441 - accuracy: 0.7864 - val_loss: 0.7774 - val_accuracy: 0.7531\n",
      "131/131 [==============================] - 16s 120ms/step - loss: 0.6219 - accuracy: 0.7907 - val_loss: 0.7466 - val_accuracy: 0.7577\n",
      "131/131 [==============================] - 16s 120ms/step - loss: 0.6216 - accuracy: 0.7928 - val_loss: 0.7295 - val_accuracy: 0.7636\n",
      "131/131 [==============================] - 16s 120ms/step - loss: 0.5928 - accuracy: 0.7952 - val_loss: 0.7228 - val_accuracy: 0.7664\n",
      "131/131 [==============================] - 16s 121ms/step - loss: 0.5924 - accuracy: 0.7963 - val_loss: 0.7097 - val_accuracy: 0.7623\n",
      "131/131 [==============================] - 16s 122ms/step - loss: 0.5729 - accuracy: 0.8020 - val_loss: 0.7340 - val_accuracy: 0.7641\n",
      "131/131 [==============================] - 16s 124ms/step - loss: 0.5689 - accuracy: 0.8038 - val_loss: 0.7053 - val_accuracy: 0.7737\n",
      "131/131 [==============================] - 16s 123ms/step - loss: 0.5545 - accuracy: 0.8105 - val_loss: 0.7005 - val_accuracy: 0.7801\n",
      "131/131 [==============================] - 16s 123ms/step - loss: 0.5716 - accuracy: 0.8053 - val_loss: 0.6874 - val_accuracy: 0.7737\n",
      "131/131 [==============================] - 16s 120ms/step - loss: 0.5280 - accuracy: 0.8221 - val_loss: 0.7015 - val_accuracy: 0.7778\n",
      "131/131 [==============================] - 16s 121ms/step - loss: 0.5281 - accuracy: 0.8235 - val_loss: 0.7085 - val_accuracy: 0.7719\n",
      "131/131 [==============================] - 16s 120ms/step - loss: 0.5269 - accuracy: 0.8204 - val_loss: 0.6978 - val_accuracy: 0.7774\n",
      "131/131 [==============================] - 16s 120ms/step - loss: 0.5187 - accuracy: 0.8224 - val_loss: 0.7119 - val_accuracy: 0.7751\n",
      "131/131 [==============================] - 16s 125ms/step - loss: 0.5268 - accuracy: 0.8220 - val_loss: 0.6741 - val_accuracy: 0.7884\n",
      "131/131 [==============================] - 16s 120ms/step - loss: 0.5031 - accuracy: 0.8287 - val_loss: 0.6767 - val_accuracy: 0.7884\n",
      "131/131 [==============================] - 16s 122ms/step - loss: 0.4994 - accuracy: 0.8302 - val_loss: 0.6975 - val_accuracy: 0.7723\n",
      "131/131 [==============================] - 16s 125ms/step - loss: 0.4851 - accuracy: 0.8377 - val_loss: 0.6717 - val_accuracy: 0.7852\n",
      "131/131 [==============================] - 16s 125ms/step - loss: 0.4726 - accuracy: 0.8357 - val_loss: 0.6545 - val_accuracy: 0.7957\n",
      "131/131 [==============================] - 15s 118ms/step - loss: 0.4718 - accuracy: 0.8386 - val_loss: 0.6678 - val_accuracy: 0.7902\n",
      "131/131 [==============================] - 16s 119ms/step - loss: 0.4600 - accuracy: 0.8465 - val_loss: 0.6610 - val_accuracy: 0.7925\n",
      "131/131 [==============================] - 16s 119ms/step - loss: 0.4655 - accuracy: 0.8400 - val_loss: 0.6418 - val_accuracy: 0.8021\n",
      "131/131 [==============================] - 16s 119ms/step - loss: 0.4609 - accuracy: 0.8456 - val_loss: 0.6437 - val_accuracy: 0.7925\n",
      "131/131 [==============================] - 16s 120ms/step - loss: 0.4380 - accuracy: 0.8546 - val_loss: 0.6551 - val_accuracy: 0.7943\n",
      "131/131 [==============================] - 16s 120ms/step - loss: 0.4377 - accuracy: 0.8530 - val_loss: 0.6402 - val_accuracy: 0.7939\n",
      "131/131 [==============================] - 16s 124ms/step - loss: 0.4319 - accuracy: 0.8572 - val_loss: 0.6348 - val_accuracy: 0.8021\n",
      "131/131 [==============================] - 16s 118ms/step - loss: 0.4188 - accuracy: 0.8604 - val_loss: 0.6356 - val_accuracy: 0.7994\n",
      "131/131 [==============================] - 16s 121ms/step - loss: 0.4406 - accuracy: 0.8526 - val_loss: 0.6346 - val_accuracy: 0.7952\n",
      "131/131 [==============================] - 16s 120ms/step - loss: 0.4139 - accuracy: 0.8591 - val_loss: 0.6351 - val_accuracy: 0.8049\n",
      "131/131 [==============================] - 16s 121ms/step - loss: 0.4160 - accuracy: 0.8569 - val_loss: 0.6400 - val_accuracy: 0.7943\n",
      "131/131 [==============================] - 16s 120ms/step - loss: 0.4082 - accuracy: 0.8598 - val_loss: 0.6190 - val_accuracy: 0.8053\n",
      "131/131 [==============================] - 16s 120ms/step - loss: 0.4102 - accuracy: 0.8601 - val_loss: 0.6427 - val_accuracy: 0.7975\n",
      "131/131 [==============================] - 16s 120ms/step - loss: 0.3989 - accuracy: 0.8652 - val_loss: 0.6319 - val_accuracy: 0.8035\n",
      "131/131 [==============================] - 16s 119ms/step - loss: 0.3844 - accuracy: 0.8714 - val_loss: 0.6659 - val_accuracy: 0.7934\n",
      "131/131 [==============================] - 15s 118ms/step - loss: 0.3805 - accuracy: 0.8701 - val_loss: 0.6263 - val_accuracy: 0.8067\n",
      "131/131 [==============================] - 16s 120ms/step - loss: 0.3715 - accuracy: 0.8748 - val_loss: 0.6163 - val_accuracy: 0.8241\n",
      "131/131 [==============================] - 16s 122ms/step - loss: 0.3871 - accuracy: 0.8678 - val_loss: 0.6360 - val_accuracy: 0.8007\n",
      "131/131 [==============================] - 16s 120ms/step - loss: 0.3841 - accuracy: 0.8668 - val_loss: 0.6125 - val_accuracy: 0.8104\n",
      "131/131 [==============================] - 21s 157ms/step - loss: 0.3728 - accuracy: 0.8745 - val_loss: 0.6531 - val_accuracy: 0.8053\n",
      "131/131 [==============================] - 16s 123ms/step - loss: 0.3753 - accuracy: 0.8693 - val_loss: 0.6484 - val_accuracy: 0.8104\n",
      "131/131 [==============================] - 16s 121ms/step - loss: 0.3630 - accuracy: 0.8772 - val_loss: 0.6187 - val_accuracy: 0.8195\n",
      "131/131 [==============================] - 16s 122ms/step - loss: 0.3597 - accuracy: 0.8811 - val_loss: 0.6655 - val_accuracy: 0.7971\n",
      "131/131 [==============================] - 16s 123ms/step - loss: 0.3438 - accuracy: 0.8826 - val_loss: 0.6386 - val_accuracy: 0.8067\n",
      "131/131 [==============================] - 16s 120ms/step - loss: 0.3511 - accuracy: 0.8788 - val_loss: 0.6306 - val_accuracy: 0.8108\n",
      "131/131 [==============================] - 16s 125ms/step - loss: 0.3420 - accuracy: 0.8869 - val_loss: 0.6165 - val_accuracy: 0.8149\n",
      "131/131 [==============================] - 16s 125ms/step - loss: 0.3387 - accuracy: 0.8881 - val_loss: 0.6364 - val_accuracy: 0.8122\n",
      "131/131 [==============================] - 16s 125ms/step - loss: 0.3272 - accuracy: 0.8856 - val_loss: 0.6376 - val_accuracy: 0.8117\n",
      "131/131 [==============================] - 17s 127ms/step - loss: 0.3381 - accuracy: 0.8836 - val_loss: 0.5969 - val_accuracy: 0.8163\n",
      "131/131 [==============================] - 16s 124ms/step - loss: 0.3267 - accuracy: 0.8872 - val_loss: 0.6200 - val_accuracy: 0.8131\n",
      "131/131 [==============================] - 16s 122ms/step - loss: 0.3163 - accuracy: 0.8957 - val_loss: 0.6212 - val_accuracy: 0.8168\n",
      "131/131 [==============================] - 16s 122ms/step - loss: 0.3265 - accuracy: 0.8904 - val_loss: 0.6435 - val_accuracy: 0.8113\n",
      "131/131 [==============================] - 16s 124ms/step - loss: 0.3327 - accuracy: 0.8859 - val_loss: 0.6398 - val_accuracy: 0.8076\n",
      "131/131 [==============================] - 16s 124ms/step - loss: 0.3237 - accuracy: 0.8927 - val_loss: 0.6210 - val_accuracy: 0.8117\n",
      "131/131 [==============================] - 16s 122ms/step - loss: 0.3168 - accuracy: 0.8914 - val_loss: 0.6207 - val_accuracy: 0.8154\n",
      "131/131 [==============================] - 16s 119ms/step - loss: 0.3115 - accuracy: 0.8910 - val_loss: 0.6283 - val_accuracy: 0.8113\n",
      "131/131 [==============================] - 16s 126ms/step - loss: 0.3125 - accuracy: 0.8956 - val_loss: 0.6673 - val_accuracy: 0.8081\n",
      "131/131 [==============================] - 17s 128ms/step - loss: 0.3058 - accuracy: 0.8966 - val_loss: 0.6048 - val_accuracy: 0.8195\n"
     ]
    }
   ],
   "source": [
    "model2 = get_bi_lstm_model()\n",
    "loss_results['bi_lstm'], acc_results['bi_lstm'] = train_model(model2)"
   ]
  },
  {
   "cell_type": "code",
   "execution_count": 22,
   "metadata": {
    "colab": {
     "base_uri": "https://localhost:8080/",
     "height": 281
    },
    "colab_type": "code",
    "id": "aAfgIKO6QnnG",
    "outputId": "2b740ee6-f971-4c64-f781-42da9ba83a20"
   },
   "outputs": [
    {
     "data": {
      "image/png": "[encoded data removed]",
      "text/plain": [
       "<Figure size 432x288 with 1 Axes>"
      ]
     },
     "metadata": {
      "needs_background": "light",
      "tags": []
     },
     "output_type": "display_data"
    }
   ],
   "source": [
    "loss_results.plot()\n",
    "pyplot.title('model loss')\n",
    "pyplot.show()"
   ]
  },
  {
   "cell_type": "code",
   "execution_count": 23,
   "metadata": {
    "colab": {
     "base_uri": "https://localhost:8080/",
     "height": 281
    },
    "colab_type": "code",
    "id": "aYr8v4kXQnnM",
    "outputId": "d6e58de6-5d9f-414b-ad6e-5ad4539a57cd"
   },
   "outputs": [
    {
     "data": {
      "image/png": "[encoded data removed]",
      "text/plain": [
       "<Figure size 432x288 with 1 Axes>"
      ]
     },
     "metadata": {
      "needs_background": "light",
      "tags": []
     },
     "output_type": "display_data"
    }
   ],
   "source": [
    "acc_results.plot()\n",
    "pyplot.title('model accuracy')\n",
    "pyplot.show()"
   ]
  },
  {
   "cell_type": "code",
   "execution_count": 52,
   "metadata": {
    "colab": {},
    "colab_type": "code",
    "id": "F-QSEghac0U9"
   },
   "outputs": [],
   "source": [
    "import librosa\n",
    "\n",
    "class_labels = ['airconditioner', 'carhorn', 'childrenplaying', 'dogbark', \n",
    "                'drilling', 'engineidling', 'gunshot', 'jackhammer',\n",
    "                'siren', 'street_music']"
   ]
  },
  {
   "cell_type": "code",
   "execution_count": 56,
   "metadata": {
    "colab": {},
    "colab_type": "code",
    "id": "cNHtgxf9eGo0"
   },
   "outputs": [],
   "source": [
    "def prediction(path):\n",
    "  K, sample_rate = librosa.load(path, res_type='kaiser_fast')\n",
    "  test = np.mean(librosa.feature.melspectrogram(y=K, sr=sample_rate).T,axis=0)\n",
    "  test = np.array(test)\n",
    "  test = test.transpose()\n",
    "  test.shape\n",
    "  test = test.reshape(16, 8)\n",
    "  q1 = np.argmax(model1.predict(np.array([test,]))[0])\n",
    "  q2 = np.argmax(model2.predict(np.array([test,]))[0])\n",
    "  return class_labels[q1], class_labels[q1] "
   ]
  },
  {
   "cell_type": "code",
   "execution_count": 63,
   "metadata": {
    "colab": {
     "base_uri": "https://localhost:8080/",
     "height": 51
    },
    "colab_type": "code",
    "id": "KCKwafM_eaR3",
    "outputId": "5c1ffa30-30c6-433d-e52c-0fa2935c4abb"
   },
   "outputs": [
    {
     "name": "stdout",
     "output_type": "stream",
     "text": [
      "LSTM prediction   : dogbark\n",
      "BiLSTM prediction : dogbark\n"
     ]
    }
   ],
   "source": [
    "path = '/content/101415-3-0-2.wav'\n",
    "sound = prediction(path)\n",
    "print(f'LSTM prediction   : {sound[0]}\\nBiLSTM prediction : {sound[0]}')"
   ]
  },
  {
   "cell_type": "code",
   "execution_count": 62,
   "metadata": {
    "colab": {
     "base_uri": "https://localhost:8080/",
     "height": 51
    },
    "colab_type": "code",
    "id": "GIvUlgzUjGxJ",
    "outputId": "22d93440-0710-4065-9f02-607f365c5c19"
   },
   "outputs": [
    {
     "name": "stdout",
     "output_type": "stream",
     "text": [
      "LSTM prediction   : drilling\n",
      "BiLSTM prediction : drilling\n"
     ]
    }
   ],
   "source": [
    "path = '/content/datasets_500970_928025_fold6_107842-4-2-3.wav'\n",
    "sound = prediction(path)\n",
    "print(f'LSTM prediction   : {sound[0]}\\nBiLSTM prediction : {sound[0]}')"
   ]
  },
  {
   "cell_type": "code",
   "execution_count": null,
   "metadata": {
    "colab": {},
    "colab_type": "code",
    "id": "uMkPDDjSk-Us"
   },
   "outputs": [],
   "source": []
  }
 ],
 "metadata": {
  "accelerator": "TPU",
  "colab": {
   "name": "UrbanSound_2.ipynb",
   "provenance": []
  },
  "kernelspec": {
   "display_name": "Python 3",
   "language": "python",
   "name": "python3"
  },
  "language_info": {
   "codemirror_mode": {
    "name": "ipython",
    "version": 3
   },
   "file_extension": ".py",
   "mimetype": "text/x-python",
   "name": "python",
   "nbconvert_exporter": "python",
   "pygments_lexer": "ipython3",
   "version": "3.7.7"
  }
 },
 "nbformat": 4,
 "nbformat_minor": 1
}
